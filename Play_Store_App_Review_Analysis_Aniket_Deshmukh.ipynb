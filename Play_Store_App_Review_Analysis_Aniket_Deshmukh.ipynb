{
  "nbformat": 4,
  "nbformat_minor": 0,
  "metadata": {
    "kernelspec": {
      "display_name": "Python 3",
      "language": "python",
      "name": "python3"
    },
    "language_info": {
      "codemirror_mode": {
        "name": "ipython",
        "version": 3
      },
      "file_extension": ".py",
      "mimetype": "text/x-python",
      "name": "python",
      "nbconvert_exporter": "python",
      "pygments_lexer": "ipython3",
      "version": "3.6.6"
    },
    "colab": {
      "provenance": [],
      "collapsed_sections": [
        "9T4yDcOBjwEX",
        "4a3DkGzll3Tk",
        "ndn9md0Uq-hW",
        "Dv1jXpmPFT1q",
        "F_Zg9x2b99qT"
      ],
      "include_colab_link": true
    }
  },
  "cells": [
    {
      "cell_type": "markdown",
      "metadata": {
        "id": "view-in-github",
        "colab_type": "text"
      },
      "source": [
        "<a href=\"https://colab.research.google.com/github/aniket-deshmukh-data/Capstone-Project-Play-Store-App-Review-Analysis-Aniket-Deshmukh/blob/main/Play_Store_App_Review_Analysis_Aniket_Deshmukh.ipynb\" target=\"_parent\"><img src=\"https://colab.research.google.com/assets/colab-badge.svg\" alt=\"Open In Colab\"/></a>"
      ]
    },
    {
      "cell_type": "markdown",
      "metadata": {
        "id": "Y06xIdG26kRF"
      },
      "source": [
        "## <b> The Play Store apps data has enormous potential to drive app-making businesses to success. Actionable insights can be drawn for developers to work on and capture the Android market. </b>\n",
        "\n",
        "## <b> Each app (row) has values for catergory, rating, size, and more. Another dataset contains customer reviews of the android apps.</b>\n",
        "\n",
        "## <b> Explore and analyze the data to discover key factors responsible for app engagement and success. </b>"
      ]
    },
    {
      "cell_type": "markdown",
      "source": [
        "# **Introduction**\n",
        "\n",
        "Google Play Store or formerly Android Market, is a digital distribution service developed and operated by Google. It is an official apps store that provides variety content such as apps, books, magazines, music, movies and television programs. It serves an as platform to allow users with 'Google certified' Android operating system devices to donwload applications developed and published on the platform either with a paid or free of cost. With the rapidly growth of Android devices and apps, it would be interesting to perform data analysis on the data to obtain valuable insights."
      ],
      "metadata": {
        "id": "9e9qprrOIRib"
      }
    },
    {
      "cell_type": "markdown",
      "source": [
        "# **Objective**\n",
        "In this notebook, I will analyze over ten thousand apps from the Google Play Store. There are two datasets:\n",
        "\n",
        "Play Store Data.csv :\n",
        "contains all the details of the apps on Google Play. These are the features that describe an app.\n",
        "\n",
        "User Reviews.csv :\n",
        "contains 100 reviews for each app, most helpful first. The text in each review has been pre-processed, passed through a sentiment analyzer engine and tagged with its sentiment score."
      ],
      "metadata": {
        "id": "bMVwqjurL0si"
      }
    },
    {
      "cell_type": "markdown",
      "source": [
        "# **Content in play store data**\n",
        "## **First Dataset : Play Store Data**\n",
        "\n",
        "1. App : The name of the app\n",
        "2. Category : The category of the app\n",
        "3. Rating : The rating of the app in the Play Store\n",
        "4. Reviews : The number of reviews of the app\n",
        "5. Size : The size of the app\n",
        "6. Install : The number of installs of the app\n",
        "7. Type : The  price type of the app\n",
        "8. Price : The price of the app\n",
        "9. Content Rating : The Rating given by user\n",
        "10. Genres: The genre of the app\n",
        "11. Last Updated : The date when the app given last update\n",
        "12. Current Ver : The current version of the app\n",
        "13. Android Ver : The minimum Android version required to run the app\n",
        "\n",
        "\n",
        "\n",
        "## **Second Dataset: User Reviews**\n",
        "\n",
        "1. App : The name of the application\n",
        "2. Translated_Review : comment given by user\n",
        "3. Sentiment : view or opinion of the user \n",
        "4. Sentiment_Polarity : Strongness of Sentiment polarity\n",
        "5. Sentiment_Subjectivity : It is a public opinion and not a factual information."
      ],
      "metadata": {
        "id": "TclmmkBSRWMy"
      }
    },
    {
      "cell_type": "markdown",
      "source": [
        "#  **Explore and Analyze the data**"
      ],
      "metadata": {
        "id": "9T4yDcOBjwEX"
      }
    },
    {
      "cell_type": "code",
      "metadata": {
        "id": "dByMsuzT8Tnw",
        "colab": {
          "base_uri": "https://localhost:8080/"
        },
        "outputId": "efc588b5-2bba-4f1c-eb75-f14ee9d4d969"
      },
      "source": [
        "# mount the google drive\n",
        "from google.colab import drive\n",
        "drive.mount('/content/drive')"
      ],
      "execution_count": 4,
      "outputs": [
        {
          "output_type": "stream",
          "name": "stdout",
          "text": [
            "Mounted at /content/drive\n"
          ]
        }
      ]
    },
    {
      "cell_type": "code",
      "source": [
        "# import the necessary libraries\n",
        "import numpy as np\n",
        "import pandas as pd\n",
        "import seaborn as sns\n",
        "import matplotlib\n",
        "import matplotlib.pyplot as plt\n",
        "from datetime import datetime\n",
        "%matplotlib inline"
      ],
      "metadata": {
        "id": "w1eGnrrqTr3P"
      },
      "execution_count": 2,
      "outputs": []
    },
    {
      "cell_type": "code",
      "source": [
        "# read all data and save in respective dataframe.\n",
        "file_path=('/content/drive/MyDrive/play store data')\n",
        "df=pd.read_csv(file_path+'/Play Store Data.csv')\n",
        "df_reviews=pd.read_csv(file_path+ '/User Reviews.csv')"
      ],
      "metadata": {
        "id": "2cPIUgk7TsCW"
      },
      "execution_count": 5,
      "outputs": []
    },
    {
      "cell_type": "markdown",
      "source": [
        "## **First Dataset information**"
      ],
      "metadata": {
        "id": "4a3DkGzll3Tk"
      }
    },
    {
      "cell_type": "code",
      "source": [
        "#check column index\n",
        "df.columns"
      ],
      "metadata": {
        "colab": {
          "base_uri": "https://localhost:8080/"
        },
        "id": "oF3uW6tgbo0w",
        "outputId": "8567c3d6-59b2-4829-ee58-d33f731a4c87"
      },
      "execution_count": 6,
      "outputs": [
        {
          "output_type": "execute_result",
          "data": {
            "text/plain": [
              "Index(['App', 'Category', 'Rating', 'Reviews', 'Size', 'Installs', 'Type',\n",
              "       'Price', 'Content Rating', 'Genres', 'Last Updated', 'Current Ver',\n",
              "       'Android Ver'],\n",
              "      dtype='object')"
            ]
          },
          "metadata": {},
          "execution_count": 6
        }
      ]
    },
    {
      "cell_type": "code",
      "source": [
        "# change column name for better use vatiable name\n",
        "df.columns = df.columns.str.replace(\" \",\"_\")\n",
        "df.columns"
      ],
      "metadata": {
        "colab": {
          "base_uri": "https://localhost:8080/"
        },
        "id": "I8OgqagubxDa",
        "outputId": "07f98cf8-ec28-48ac-e706-178dd07eb562"
      },
      "execution_count": 7,
      "outputs": [
        {
          "output_type": "execute_result",
          "data": {
            "text/plain": [
              "Index(['App', 'Category', 'Rating', 'Reviews', 'Size', 'Installs', 'Type',\n",
              "       'Price', 'Content_Rating', 'Genres', 'Last_Updated', 'Current_Ver',\n",
              "       'Android_Ver'],\n",
              "      dtype='object')"
            ]
          },
          "metadata": {},
          "execution_count": 7
        }
      ]
    },
    {
      "cell_type": "code",
      "source": [
        "df.head()"
      ],
      "metadata": {
        "colab": {
          "base_uri": "https://localhost:8080/",
          "height": 0
        },
        "id": "6pGqfDUSqrRW",
        "outputId": "09c9b5e5-268a-4b2b-edaa-51b609776702"
      },
      "execution_count": 8,
      "outputs": [
        {
          "output_type": "execute_result",
          "data": {
            "text/plain": [
              "                                                 App        Category  Rating  \\\n",
              "0     Photo Editor & Candy Camera & Grid & ScrapBook  ART_AND_DESIGN     4.1   \n",
              "1                                Coloring book moana  ART_AND_DESIGN     3.9   \n",
              "2  U Launcher Lite – FREE Live Cool Themes, Hide ...  ART_AND_DESIGN     4.7   \n",
              "3                              Sketch - Draw & Paint  ART_AND_DESIGN     4.5   \n",
              "4              Pixel Draw - Number Art Coloring Book  ART_AND_DESIGN     4.3   \n",
              "\n",
              "  Reviews  Size     Installs  Type Price Content_Rating  \\\n",
              "0     159   19M      10,000+  Free     0       Everyone   \n",
              "1     967   14M     500,000+  Free     0       Everyone   \n",
              "2   87510  8.7M   5,000,000+  Free     0       Everyone   \n",
              "3  215644   25M  50,000,000+  Free     0           Teen   \n",
              "4     967  2.8M     100,000+  Free     0       Everyone   \n",
              "\n",
              "                      Genres      Last_Updated         Current_Ver  \\\n",
              "0               Art & Design   January 7, 2018               1.0.0   \n",
              "1  Art & Design;Pretend Play  January 15, 2018               2.0.0   \n",
              "2               Art & Design    August 1, 2018               1.2.4   \n",
              "3               Art & Design      June 8, 2018  Varies with device   \n",
              "4    Art & Design;Creativity     June 20, 2018                 1.1   \n",
              "\n",
              "    Android_Ver  \n",
              "0  4.0.3 and up  \n",
              "1  4.0.3 and up  \n",
              "2  4.0.3 and up  \n",
              "3    4.2 and up  \n",
              "4    4.4 and up  "
            ],
            "text/html": [
              "\n",
              "  <div id=\"df-c75508c0-4fdb-4525-b633-1101d59a0cb3\">\n",
              "    <div class=\"colab-df-container\">\n",
              "      <div>\n",
              "<style scoped>\n",
              "    .dataframe tbody tr th:only-of-type {\n",
              "        vertical-align: middle;\n",
              "    }\n",
              "\n",
              "    .dataframe tbody tr th {\n",
              "        vertical-align: top;\n",
              "    }\n",
              "\n",
              "    .dataframe thead th {\n",
              "        text-align: right;\n",
              "    }\n",
              "</style>\n",
              "<table border=\"1\" class=\"dataframe\">\n",
              "  <thead>\n",
              "    <tr style=\"text-align: right;\">\n",
              "      <th></th>\n",
              "      <th>App</th>\n",
              "      <th>Category</th>\n",
              "      <th>Rating</th>\n",
              "      <th>Reviews</th>\n",
              "      <th>Size</th>\n",
              "      <th>Installs</th>\n",
              "      <th>Type</th>\n",
              "      <th>Price</th>\n",
              "      <th>Content_Rating</th>\n",
              "      <th>Genres</th>\n",
              "      <th>Last_Updated</th>\n",
              "      <th>Current_Ver</th>\n",
              "      <th>Android_Ver</th>\n",
              "    </tr>\n",
              "  </thead>\n",
              "  <tbody>\n",
              "    <tr>\n",
              "      <th>0</th>\n",
              "      <td>Photo Editor &amp; Candy Camera &amp; Grid &amp; ScrapBook</td>\n",
              "      <td>ART_AND_DESIGN</td>\n",
              "      <td>4.1</td>\n",
              "      <td>159</td>\n",
              "      <td>19M</td>\n",
              "      <td>10,000+</td>\n",
              "      <td>Free</td>\n",
              "      <td>0</td>\n",
              "      <td>Everyone</td>\n",
              "      <td>Art &amp; Design</td>\n",
              "      <td>January 7, 2018</td>\n",
              "      <td>1.0.0</td>\n",
              "      <td>4.0.3 and up</td>\n",
              "    </tr>\n",
              "    <tr>\n",
              "      <th>1</th>\n",
              "      <td>Coloring book moana</td>\n",
              "      <td>ART_AND_DESIGN</td>\n",
              "      <td>3.9</td>\n",
              "      <td>967</td>\n",
              "      <td>14M</td>\n",
              "      <td>500,000+</td>\n",
              "      <td>Free</td>\n",
              "      <td>0</td>\n",
              "      <td>Everyone</td>\n",
              "      <td>Art &amp; Design;Pretend Play</td>\n",
              "      <td>January 15, 2018</td>\n",
              "      <td>2.0.0</td>\n",
              "      <td>4.0.3 and up</td>\n",
              "    </tr>\n",
              "    <tr>\n",
              "      <th>2</th>\n",
              "      <td>U Launcher Lite – FREE Live Cool Themes, Hide ...</td>\n",
              "      <td>ART_AND_DESIGN</td>\n",
              "      <td>4.7</td>\n",
              "      <td>87510</td>\n",
              "      <td>8.7M</td>\n",
              "      <td>5,000,000+</td>\n",
              "      <td>Free</td>\n",
              "      <td>0</td>\n",
              "      <td>Everyone</td>\n",
              "      <td>Art &amp; Design</td>\n",
              "      <td>August 1, 2018</td>\n",
              "      <td>1.2.4</td>\n",
              "      <td>4.0.3 and up</td>\n",
              "    </tr>\n",
              "    <tr>\n",
              "      <th>3</th>\n",
              "      <td>Sketch - Draw &amp; Paint</td>\n",
              "      <td>ART_AND_DESIGN</td>\n",
              "      <td>4.5</td>\n",
              "      <td>215644</td>\n",
              "      <td>25M</td>\n",
              "      <td>50,000,000+</td>\n",
              "      <td>Free</td>\n",
              "      <td>0</td>\n",
              "      <td>Teen</td>\n",
              "      <td>Art &amp; Design</td>\n",
              "      <td>June 8, 2018</td>\n",
              "      <td>Varies with device</td>\n",
              "      <td>4.2 and up</td>\n",
              "    </tr>\n",
              "    <tr>\n",
              "      <th>4</th>\n",
              "      <td>Pixel Draw - Number Art Coloring Book</td>\n",
              "      <td>ART_AND_DESIGN</td>\n",
              "      <td>4.3</td>\n",
              "      <td>967</td>\n",
              "      <td>2.8M</td>\n",
              "      <td>100,000+</td>\n",
              "      <td>Free</td>\n",
              "      <td>0</td>\n",
              "      <td>Everyone</td>\n",
              "      <td>Art &amp; Design;Creativity</td>\n",
              "      <td>June 20, 2018</td>\n",
              "      <td>1.1</td>\n",
              "      <td>4.4 and up</td>\n",
              "    </tr>\n",
              "  </tbody>\n",
              "</table>\n",
              "</div>\n",
              "      <button class=\"colab-df-convert\" onclick=\"convertToInteractive('df-c75508c0-4fdb-4525-b633-1101d59a0cb3')\"\n",
              "              title=\"Convert this dataframe to an interactive table.\"\n",
              "              style=\"display:none;\">\n",
              "        \n",
              "  <svg xmlns=\"http://www.w3.org/2000/svg\" height=\"24px\"viewBox=\"0 0 24 24\"\n",
              "       width=\"24px\">\n",
              "    <path d=\"M0 0h24v24H0V0z\" fill=\"none\"/>\n",
              "    <path d=\"M18.56 5.44l.94 2.06.94-2.06 2.06-.94-2.06-.94-.94-2.06-.94 2.06-2.06.94zm-11 1L8.5 8.5l.94-2.06 2.06-.94-2.06-.94L8.5 2.5l-.94 2.06-2.06.94zm10 10l.94 2.06.94-2.06 2.06-.94-2.06-.94-.94-2.06-.94 2.06-2.06.94z\"/><path d=\"M17.41 7.96l-1.37-1.37c-.4-.4-.92-.59-1.43-.59-.52 0-1.04.2-1.43.59L10.3 9.45l-7.72 7.72c-.78.78-.78 2.05 0 2.83L4 21.41c.39.39.9.59 1.41.59.51 0 1.02-.2 1.41-.59l7.78-7.78 2.81-2.81c.8-.78.8-2.07 0-2.86zM5.41 20L4 18.59l7.72-7.72 1.47 1.35L5.41 20z\"/>\n",
              "  </svg>\n",
              "      </button>\n",
              "      \n",
              "  <style>\n",
              "    .colab-df-container {\n",
              "      display:flex;\n",
              "      flex-wrap:wrap;\n",
              "      gap: 12px;\n",
              "    }\n",
              "\n",
              "    .colab-df-convert {\n",
              "      background-color: #E8F0FE;\n",
              "      border: none;\n",
              "      border-radius: 50%;\n",
              "      cursor: pointer;\n",
              "      display: none;\n",
              "      fill: #1967D2;\n",
              "      height: 32px;\n",
              "      padding: 0 0 0 0;\n",
              "      width: 32px;\n",
              "    }\n",
              "\n",
              "    .colab-df-convert:hover {\n",
              "      background-color: #E2EBFA;\n",
              "      box-shadow: 0px 1px 2px rgba(60, 64, 67, 0.3), 0px 1px 3px 1px rgba(60, 64, 67, 0.15);\n",
              "      fill: #174EA6;\n",
              "    }\n",
              "\n",
              "    [theme=dark] .colab-df-convert {\n",
              "      background-color: #3B4455;\n",
              "      fill: #D2E3FC;\n",
              "    }\n",
              "\n",
              "    [theme=dark] .colab-df-convert:hover {\n",
              "      background-color: #434B5C;\n",
              "      box-shadow: 0px 1px 3px 1px rgba(0, 0, 0, 0.15);\n",
              "      filter: drop-shadow(0px 1px 2px rgba(0, 0, 0, 0.3));\n",
              "      fill: #FFFFFF;\n",
              "    }\n",
              "  </style>\n",
              "\n",
              "      <script>\n",
              "        const buttonEl =\n",
              "          document.querySelector('#df-c75508c0-4fdb-4525-b633-1101d59a0cb3 button.colab-df-convert');\n",
              "        buttonEl.style.display =\n",
              "          google.colab.kernel.accessAllowed ? 'block' : 'none';\n",
              "\n",
              "        async function convertToInteractive(key) {\n",
              "          const element = document.querySelector('#df-c75508c0-4fdb-4525-b633-1101d59a0cb3');\n",
              "          const dataTable =\n",
              "            await google.colab.kernel.invokeFunction('convertToInteractive',\n",
              "                                                     [key], {});\n",
              "          if (!dataTable) return;\n",
              "\n",
              "          const docLinkHtml = 'Like what you see? Visit the ' +\n",
              "            '<a target=\"_blank\" href=https://colab.research.google.com/notebooks/data_table.ipynb>data table notebook</a>'\n",
              "            + ' to learn more about interactive tables.';\n",
              "          element.innerHTML = '';\n",
              "          dataTable['output_type'] = 'display_data';\n",
              "          await google.colab.output.renderOutput(dataTable, element);\n",
              "          const docLink = document.createElement('div');\n",
              "          docLink.innerHTML = docLinkHtml;\n",
              "          element.appendChild(docLink);\n",
              "        }\n",
              "      </script>\n",
              "    </div>\n",
              "  </div>\n",
              "  "
            ]
          },
          "metadata": {},
          "execution_count": 8
        }
      ]
    },
    {
      "cell_type": "code",
      "source": [
        "df.tail()"
      ],
      "metadata": {
        "colab": {
          "base_uri": "https://localhost:8080/",
          "height": 0
        },
        "id": "IEZDL2ogqu5u",
        "outputId": "89efd5b5-0c3c-4cfb-f943-1c920c9cd79f"
      },
      "execution_count": 9,
      "outputs": [
        {
          "output_type": "execute_result",
          "data": {
            "text/plain": [
              "                                                 App             Category  \\\n",
              "10836                               Sya9a Maroc - FR               FAMILY   \n",
              "10837               Fr. Mike Schmitz Audio Teachings               FAMILY   \n",
              "10838                         Parkinson Exercices FR              MEDICAL   \n",
              "10839                  The SCP Foundation DB fr nn5n  BOOKS_AND_REFERENCE   \n",
              "10840  iHoroscope - 2018 Daily Horoscope & Astrology            LIFESTYLE   \n",
              "\n",
              "       Rating Reviews                Size     Installs  Type Price  \\\n",
              "10836     4.5      38                 53M       5,000+  Free     0   \n",
              "10837     5.0       4                3.6M         100+  Free     0   \n",
              "10838     NaN       3                9.5M       1,000+  Free     0   \n",
              "10839     4.5     114  Varies with device       1,000+  Free     0   \n",
              "10840     4.5  398307                 19M  10,000,000+  Free     0   \n",
              "\n",
              "      Content_Rating             Genres      Last_Updated         Current_Ver  \\\n",
              "10836       Everyone          Education     July 25, 2017                1.48   \n",
              "10837       Everyone          Education      July 6, 2018                 1.0   \n",
              "10838       Everyone            Medical  January 20, 2017                 1.0   \n",
              "10839     Mature 17+  Books & Reference  January 19, 2015  Varies with device   \n",
              "10840       Everyone          Lifestyle     July 25, 2018  Varies with device   \n",
              "\n",
              "              Android_Ver  \n",
              "10836          4.1 and up  \n",
              "10837          4.1 and up  \n",
              "10838          2.2 and up  \n",
              "10839  Varies with device  \n",
              "10840  Varies with device  "
            ],
            "text/html": [
              "\n",
              "  <div id=\"df-8ef6a7c4-3202-44d0-8f99-d79f41a95828\">\n",
              "    <div class=\"colab-df-container\">\n",
              "      <div>\n",
              "<style scoped>\n",
              "    .dataframe tbody tr th:only-of-type {\n",
              "        vertical-align: middle;\n",
              "    }\n",
              "\n",
              "    .dataframe tbody tr th {\n",
              "        vertical-align: top;\n",
              "    }\n",
              "\n",
              "    .dataframe thead th {\n",
              "        text-align: right;\n",
              "    }\n",
              "</style>\n",
              "<table border=\"1\" class=\"dataframe\">\n",
              "  <thead>\n",
              "    <tr style=\"text-align: right;\">\n",
              "      <th></th>\n",
              "      <th>App</th>\n",
              "      <th>Category</th>\n",
              "      <th>Rating</th>\n",
              "      <th>Reviews</th>\n",
              "      <th>Size</th>\n",
              "      <th>Installs</th>\n",
              "      <th>Type</th>\n",
              "      <th>Price</th>\n",
              "      <th>Content_Rating</th>\n",
              "      <th>Genres</th>\n",
              "      <th>Last_Updated</th>\n",
              "      <th>Current_Ver</th>\n",
              "      <th>Android_Ver</th>\n",
              "    </tr>\n",
              "  </thead>\n",
              "  <tbody>\n",
              "    <tr>\n",
              "      <th>10836</th>\n",
              "      <td>Sya9a Maroc - FR</td>\n",
              "      <td>FAMILY</td>\n",
              "      <td>4.5</td>\n",
              "      <td>38</td>\n",
              "      <td>53M</td>\n",
              "      <td>5,000+</td>\n",
              "      <td>Free</td>\n",
              "      <td>0</td>\n",
              "      <td>Everyone</td>\n",
              "      <td>Education</td>\n",
              "      <td>July 25, 2017</td>\n",
              "      <td>1.48</td>\n",
              "      <td>4.1 and up</td>\n",
              "    </tr>\n",
              "    <tr>\n",
              "      <th>10837</th>\n",
              "      <td>Fr. Mike Schmitz Audio Teachings</td>\n",
              "      <td>FAMILY</td>\n",
              "      <td>5.0</td>\n",
              "      <td>4</td>\n",
              "      <td>3.6M</td>\n",
              "      <td>100+</td>\n",
              "      <td>Free</td>\n",
              "      <td>0</td>\n",
              "      <td>Everyone</td>\n",
              "      <td>Education</td>\n",
              "      <td>July 6, 2018</td>\n",
              "      <td>1.0</td>\n",
              "      <td>4.1 and up</td>\n",
              "    </tr>\n",
              "    <tr>\n",
              "      <th>10838</th>\n",
              "      <td>Parkinson Exercices FR</td>\n",
              "      <td>MEDICAL</td>\n",
              "      <td>NaN</td>\n",
              "      <td>3</td>\n",
              "      <td>9.5M</td>\n",
              "      <td>1,000+</td>\n",
              "      <td>Free</td>\n",
              "      <td>0</td>\n",
              "      <td>Everyone</td>\n",
              "      <td>Medical</td>\n",
              "      <td>January 20, 2017</td>\n",
              "      <td>1.0</td>\n",
              "      <td>2.2 and up</td>\n",
              "    </tr>\n",
              "    <tr>\n",
              "      <th>10839</th>\n",
              "      <td>The SCP Foundation DB fr nn5n</td>\n",
              "      <td>BOOKS_AND_REFERENCE</td>\n",
              "      <td>4.5</td>\n",
              "      <td>114</td>\n",
              "      <td>Varies with device</td>\n",
              "      <td>1,000+</td>\n",
              "      <td>Free</td>\n",
              "      <td>0</td>\n",
              "      <td>Mature 17+</td>\n",
              "      <td>Books &amp; Reference</td>\n",
              "      <td>January 19, 2015</td>\n",
              "      <td>Varies with device</td>\n",
              "      <td>Varies with device</td>\n",
              "    </tr>\n",
              "    <tr>\n",
              "      <th>10840</th>\n",
              "      <td>iHoroscope - 2018 Daily Horoscope &amp; Astrology</td>\n",
              "      <td>LIFESTYLE</td>\n",
              "      <td>4.5</td>\n",
              "      <td>398307</td>\n",
              "      <td>19M</td>\n",
              "      <td>10,000,000+</td>\n",
              "      <td>Free</td>\n",
              "      <td>0</td>\n",
              "      <td>Everyone</td>\n",
              "      <td>Lifestyle</td>\n",
              "      <td>July 25, 2018</td>\n",
              "      <td>Varies with device</td>\n",
              "      <td>Varies with device</td>\n",
              "    </tr>\n",
              "  </tbody>\n",
              "</table>\n",
              "</div>\n",
              "      <button class=\"colab-df-convert\" onclick=\"convertToInteractive('df-8ef6a7c4-3202-44d0-8f99-d79f41a95828')\"\n",
              "              title=\"Convert this dataframe to an interactive table.\"\n",
              "              style=\"display:none;\">\n",
              "        \n",
              "  <svg xmlns=\"http://www.w3.org/2000/svg\" height=\"24px\"viewBox=\"0 0 24 24\"\n",
              "       width=\"24px\">\n",
              "    <path d=\"M0 0h24v24H0V0z\" fill=\"none\"/>\n",
              "    <path d=\"M18.56 5.44l.94 2.06.94-2.06 2.06-.94-2.06-.94-.94-2.06-.94 2.06-2.06.94zm-11 1L8.5 8.5l.94-2.06 2.06-.94-2.06-.94L8.5 2.5l-.94 2.06-2.06.94zm10 10l.94 2.06.94-2.06 2.06-.94-2.06-.94-.94-2.06-.94 2.06-2.06.94z\"/><path d=\"M17.41 7.96l-1.37-1.37c-.4-.4-.92-.59-1.43-.59-.52 0-1.04.2-1.43.59L10.3 9.45l-7.72 7.72c-.78.78-.78 2.05 0 2.83L4 21.41c.39.39.9.59 1.41.59.51 0 1.02-.2 1.41-.59l7.78-7.78 2.81-2.81c.8-.78.8-2.07 0-2.86zM5.41 20L4 18.59l7.72-7.72 1.47 1.35L5.41 20z\"/>\n",
              "  </svg>\n",
              "      </button>\n",
              "      \n",
              "  <style>\n",
              "    .colab-df-container {\n",
              "      display:flex;\n",
              "      flex-wrap:wrap;\n",
              "      gap: 12px;\n",
              "    }\n",
              "\n",
              "    .colab-df-convert {\n",
              "      background-color: #E8F0FE;\n",
              "      border: none;\n",
              "      border-radius: 50%;\n",
              "      cursor: pointer;\n",
              "      display: none;\n",
              "      fill: #1967D2;\n",
              "      height: 32px;\n",
              "      padding: 0 0 0 0;\n",
              "      width: 32px;\n",
              "    }\n",
              "\n",
              "    .colab-df-convert:hover {\n",
              "      background-color: #E2EBFA;\n",
              "      box-shadow: 0px 1px 2px rgba(60, 64, 67, 0.3), 0px 1px 3px 1px rgba(60, 64, 67, 0.15);\n",
              "      fill: #174EA6;\n",
              "    }\n",
              "\n",
              "    [theme=dark] .colab-df-convert {\n",
              "      background-color: #3B4455;\n",
              "      fill: #D2E3FC;\n",
              "    }\n",
              "\n",
              "    [theme=dark] .colab-df-convert:hover {\n",
              "      background-color: #434B5C;\n",
              "      box-shadow: 0px 1px 3px 1px rgba(0, 0, 0, 0.15);\n",
              "      filter: drop-shadow(0px 1px 2px rgba(0, 0, 0, 0.3));\n",
              "      fill: #FFFFFF;\n",
              "    }\n",
              "  </style>\n",
              "\n",
              "      <script>\n",
              "        const buttonEl =\n",
              "          document.querySelector('#df-8ef6a7c4-3202-44d0-8f99-d79f41a95828 button.colab-df-convert');\n",
              "        buttonEl.style.display =\n",
              "          google.colab.kernel.accessAllowed ? 'block' : 'none';\n",
              "\n",
              "        async function convertToInteractive(key) {\n",
              "          const element = document.querySelector('#df-8ef6a7c4-3202-44d0-8f99-d79f41a95828');\n",
              "          const dataTable =\n",
              "            await google.colab.kernel.invokeFunction('convertToInteractive',\n",
              "                                                     [key], {});\n",
              "          if (!dataTable) return;\n",
              "\n",
              "          const docLinkHtml = 'Like what you see? Visit the ' +\n",
              "            '<a target=\"_blank\" href=https://colab.research.google.com/notebooks/data_table.ipynb>data table notebook</a>'\n",
              "            + ' to learn more about interactive tables.';\n",
              "          element.innerHTML = '';\n",
              "          dataTable['output_type'] = 'display_data';\n",
              "          await google.colab.output.renderOutput(dataTable, element);\n",
              "          const docLink = document.createElement('div');\n",
              "          docLink.innerHTML = docLinkHtml;\n",
              "          element.appendChild(docLink);\n",
              "        }\n",
              "      </script>\n",
              "    </div>\n",
              "  </div>\n",
              "  "
            ]
          },
          "metadata": {},
          "execution_count": 9
        }
      ]
    },
    {
      "cell_type": "code",
      "source": [
        "df.info()"
      ],
      "metadata": {
        "colab": {
          "base_uri": "https://localhost:8080/"
        },
        "id": "1USDP08qqyRG",
        "outputId": "385cd3aa-807c-4af0-971f-d2efb17b9e5f"
      },
      "execution_count": 10,
      "outputs": [
        {
          "output_type": "stream",
          "name": "stdout",
          "text": [
            "<class 'pandas.core.frame.DataFrame'>\n",
            "RangeIndex: 10841 entries, 0 to 10840\n",
            "Data columns (total 13 columns):\n",
            " #   Column          Non-Null Count  Dtype  \n",
            "---  ------          --------------  -----  \n",
            " 0   App             10841 non-null  object \n",
            " 1   Category        10841 non-null  object \n",
            " 2   Rating          9367 non-null   float64\n",
            " 3   Reviews         10841 non-null  object \n",
            " 4   Size            10841 non-null  object \n",
            " 5   Installs        10841 non-null  object \n",
            " 6   Type            10840 non-null  object \n",
            " 7   Price           10841 non-null  object \n",
            " 8   Content_Rating  10840 non-null  object \n",
            " 9   Genres          10841 non-null  object \n",
            " 10  Last_Updated    10841 non-null  object \n",
            " 11  Current_Ver     10833 non-null  object \n",
            " 12  Android_Ver     10838 non-null  object \n",
            "dtypes: float64(1), object(12)\n",
            "memory usage: 1.1+ MB\n"
          ]
        }
      ]
    },
    {
      "cell_type": "markdown",
      "source": [
        "## **Second Dataset information**"
      ],
      "metadata": {
        "id": "ndn9md0Uq-hW"
      }
    },
    {
      "cell_type": "code",
      "source": [
        "#check column index\n",
        "df_reviews.columns"
      ],
      "metadata": {
        "colab": {
          "base_uri": "https://localhost:8080/"
        },
        "id": "HzNPnbIsrioJ",
        "outputId": "f712caef-6cfa-423e-e02d-aafe57866269"
      },
      "execution_count": 11,
      "outputs": [
        {
          "output_type": "execute_result",
          "data": {
            "text/plain": [
              "Index(['App', 'Translated_Review', 'Sentiment', 'Sentiment_Polarity',\n",
              "       'Sentiment_Subjectivity'],\n",
              "      dtype='object')"
            ]
          },
          "metadata": {},
          "execution_count": 11
        }
      ]
    },
    {
      "cell_type": "code",
      "source": [
        "df_reviews.sample(5)"
      ],
      "metadata": {
        "colab": {
          "base_uri": "https://localhost:8080/",
          "height": 0
        },
        "id": "tyPU7qTdrt66",
        "outputId": "7bd7b85d-7192-4e4e-bd22-263c108e85da"
      },
      "execution_count": 12,
      "outputs": [
        {
          "output_type": "execute_result",
          "data": {
            "text/plain": [
              "                                  App  \\\n",
              "28596                  Comedy Central   \n",
              "42238                             FOX   \n",
              "38477             ESPN Fantasy Sports   \n",
              "60037  Happy Fruits Bomb - Cube Blast   \n",
              "45144      Fate/Grand Order (English)   \n",
              "\n",
              "                                       Translated_Review Sentiment  \\\n",
              "28596  Update- Latest version fixed problem Android T...  Positive   \n",
              "42238  Since last update keeps freezing, working clos...  Positive   \n",
              "38477                                                NaN       NaN   \n",
              "60037                                  Most time respond  Positive   \n",
              "45144  I used enjoy game I got new phone, support new...  Positive   \n",
              "\n",
              "       Sentiment_Polarity  Sentiment_Subjectivity  \n",
              "28596            0.243608                0.519318  \n",
              "42238            0.250000                0.333333  \n",
              "38477                 NaN                     NaN  \n",
              "60037            0.500000                0.500000  \n",
              "45144            0.057517                0.512238  "
            ],
            "text/html": [
              "\n",
              "  <div id=\"df-95620ea2-253e-4218-9906-82291633aa97\">\n",
              "    <div class=\"colab-df-container\">\n",
              "      <div>\n",
              "<style scoped>\n",
              "    .dataframe tbody tr th:only-of-type {\n",
              "        vertical-align: middle;\n",
              "    }\n",
              "\n",
              "    .dataframe tbody tr th {\n",
              "        vertical-align: top;\n",
              "    }\n",
              "\n",
              "    .dataframe thead th {\n",
              "        text-align: right;\n",
              "    }\n",
              "</style>\n",
              "<table border=\"1\" class=\"dataframe\">\n",
              "  <thead>\n",
              "    <tr style=\"text-align: right;\">\n",
              "      <th></th>\n",
              "      <th>App</th>\n",
              "      <th>Translated_Review</th>\n",
              "      <th>Sentiment</th>\n",
              "      <th>Sentiment_Polarity</th>\n",
              "      <th>Sentiment_Subjectivity</th>\n",
              "    </tr>\n",
              "  </thead>\n",
              "  <tbody>\n",
              "    <tr>\n",
              "      <th>28596</th>\n",
              "      <td>Comedy Central</td>\n",
              "      <td>Update- Latest version fixed problem Android T...</td>\n",
              "      <td>Positive</td>\n",
              "      <td>0.243608</td>\n",
              "      <td>0.519318</td>\n",
              "    </tr>\n",
              "    <tr>\n",
              "      <th>42238</th>\n",
              "      <td>FOX</td>\n",
              "      <td>Since last update keeps freezing, working clos...</td>\n",
              "      <td>Positive</td>\n",
              "      <td>0.250000</td>\n",
              "      <td>0.333333</td>\n",
              "    </tr>\n",
              "    <tr>\n",
              "      <th>38477</th>\n",
              "      <td>ESPN Fantasy Sports</td>\n",
              "      <td>NaN</td>\n",
              "      <td>NaN</td>\n",
              "      <td>NaN</td>\n",
              "      <td>NaN</td>\n",
              "    </tr>\n",
              "    <tr>\n",
              "      <th>60037</th>\n",
              "      <td>Happy Fruits Bomb - Cube Blast</td>\n",
              "      <td>Most time respond</td>\n",
              "      <td>Positive</td>\n",
              "      <td>0.500000</td>\n",
              "      <td>0.500000</td>\n",
              "    </tr>\n",
              "    <tr>\n",
              "      <th>45144</th>\n",
              "      <td>Fate/Grand Order (English)</td>\n",
              "      <td>I used enjoy game I got new phone, support new...</td>\n",
              "      <td>Positive</td>\n",
              "      <td>0.057517</td>\n",
              "      <td>0.512238</td>\n",
              "    </tr>\n",
              "  </tbody>\n",
              "</table>\n",
              "</div>\n",
              "      <button class=\"colab-df-convert\" onclick=\"convertToInteractive('df-95620ea2-253e-4218-9906-82291633aa97')\"\n",
              "              title=\"Convert this dataframe to an interactive table.\"\n",
              "              style=\"display:none;\">\n",
              "        \n",
              "  <svg xmlns=\"http://www.w3.org/2000/svg\" height=\"24px\"viewBox=\"0 0 24 24\"\n",
              "       width=\"24px\">\n",
              "    <path d=\"M0 0h24v24H0V0z\" fill=\"none\"/>\n",
              "    <path d=\"M18.56 5.44l.94 2.06.94-2.06 2.06-.94-2.06-.94-.94-2.06-.94 2.06-2.06.94zm-11 1L8.5 8.5l.94-2.06 2.06-.94-2.06-.94L8.5 2.5l-.94 2.06-2.06.94zm10 10l.94 2.06.94-2.06 2.06-.94-2.06-.94-.94-2.06-.94 2.06-2.06.94z\"/><path d=\"M17.41 7.96l-1.37-1.37c-.4-.4-.92-.59-1.43-.59-.52 0-1.04.2-1.43.59L10.3 9.45l-7.72 7.72c-.78.78-.78 2.05 0 2.83L4 21.41c.39.39.9.59 1.41.59.51 0 1.02-.2 1.41-.59l7.78-7.78 2.81-2.81c.8-.78.8-2.07 0-2.86zM5.41 20L4 18.59l7.72-7.72 1.47 1.35L5.41 20z\"/>\n",
              "  </svg>\n",
              "      </button>\n",
              "      \n",
              "  <style>\n",
              "    .colab-df-container {\n",
              "      display:flex;\n",
              "      flex-wrap:wrap;\n",
              "      gap: 12px;\n",
              "    }\n",
              "\n",
              "    .colab-df-convert {\n",
              "      background-color: #E8F0FE;\n",
              "      border: none;\n",
              "      border-radius: 50%;\n",
              "      cursor: pointer;\n",
              "      display: none;\n",
              "      fill: #1967D2;\n",
              "      height: 32px;\n",
              "      padding: 0 0 0 0;\n",
              "      width: 32px;\n",
              "    }\n",
              "\n",
              "    .colab-df-convert:hover {\n",
              "      background-color: #E2EBFA;\n",
              "      box-shadow: 0px 1px 2px rgba(60, 64, 67, 0.3), 0px 1px 3px 1px rgba(60, 64, 67, 0.15);\n",
              "      fill: #174EA6;\n",
              "    }\n",
              "\n",
              "    [theme=dark] .colab-df-convert {\n",
              "      background-color: #3B4455;\n",
              "      fill: #D2E3FC;\n",
              "    }\n",
              "\n",
              "    [theme=dark] .colab-df-convert:hover {\n",
              "      background-color: #434B5C;\n",
              "      box-shadow: 0px 1px 3px 1px rgba(0, 0, 0, 0.15);\n",
              "      filter: drop-shadow(0px 1px 2px rgba(0, 0, 0, 0.3));\n",
              "      fill: #FFFFFF;\n",
              "    }\n",
              "  </style>\n",
              "\n",
              "      <script>\n",
              "        const buttonEl =\n",
              "          document.querySelector('#df-95620ea2-253e-4218-9906-82291633aa97 button.colab-df-convert');\n",
              "        buttonEl.style.display =\n",
              "          google.colab.kernel.accessAllowed ? 'block' : 'none';\n",
              "\n",
              "        async function convertToInteractive(key) {\n",
              "          const element = document.querySelector('#df-95620ea2-253e-4218-9906-82291633aa97');\n",
              "          const dataTable =\n",
              "            await google.colab.kernel.invokeFunction('convertToInteractive',\n",
              "                                                     [key], {});\n",
              "          if (!dataTable) return;\n",
              "\n",
              "          const docLinkHtml = 'Like what you see? Visit the ' +\n",
              "            '<a target=\"_blank\" href=https://colab.research.google.com/notebooks/data_table.ipynb>data table notebook</a>'\n",
              "            + ' to learn more about interactive tables.';\n",
              "          element.innerHTML = '';\n",
              "          dataTable['output_type'] = 'display_data';\n",
              "          await google.colab.output.renderOutput(dataTable, element);\n",
              "          const docLink = document.createElement('div');\n",
              "          docLink.innerHTML = docLinkHtml;\n",
              "          element.appendChild(docLink);\n",
              "        }\n",
              "      </script>\n",
              "    </div>\n",
              "  </div>\n",
              "  "
            ]
          },
          "metadata": {},
          "execution_count": 12
        }
      ]
    },
    {
      "cell_type": "code",
      "source": [
        "df_reviews.info()"
      ],
      "metadata": {
        "colab": {
          "base_uri": "https://localhost:8080/"
        },
        "id": "5ksBnAQgr1_t",
        "outputId": "6f965af0-b94f-4ef6-9e63-5963d882a5be"
      },
      "execution_count": 13,
      "outputs": [
        {
          "output_type": "stream",
          "name": "stdout",
          "text": [
            "<class 'pandas.core.frame.DataFrame'>\n",
            "RangeIndex: 64295 entries, 0 to 64294\n",
            "Data columns (total 5 columns):\n",
            " #   Column                  Non-Null Count  Dtype  \n",
            "---  ------                  --------------  -----  \n",
            " 0   App                     64295 non-null  object \n",
            " 1   Translated_Review       37427 non-null  object \n",
            " 2   Sentiment               37432 non-null  object \n",
            " 3   Sentiment_Polarity      37432 non-null  float64\n",
            " 4   Sentiment_Subjectivity  37432 non-null  float64\n",
            "dtypes: float64(2), object(3)\n",
            "memory usage: 2.5+ MB\n"
          ]
        }
      ]
    },
    {
      "cell_type": "markdown",
      "source": [
        "# **Data Cleaning**"
      ],
      "metadata": {
        "id": "Dv1jXpmPFT1q"
      }
    },
    {
      "cell_type": "markdown",
      "source": [
        "## **Null value calculate from first dataset**\n",
        "\n",
        "Analyse each column from first dataset and perform data cleaning"
      ],
      "metadata": {
        "id": "yre6PLYglrmn"
      }
    },
    {
      "cell_type": "code",
      "source": [
        "\n",
        "df['Category'].unique()"
      ],
      "metadata": {
        "colab": {
          "base_uri": "https://localhost:8080/"
        },
        "id": "VTgFrhvlmDeH",
        "outputId": "fb4378c0-3ca9-4b95-e52b-0a857f10f3f8"
      },
      "execution_count": 14,
      "outputs": [
        {
          "output_type": "execute_result",
          "data": {
            "text/plain": [
              "array(['ART_AND_DESIGN', 'AUTO_AND_VEHICLES', 'BEAUTY',\n",
              "       'BOOKS_AND_REFERENCE', 'BUSINESS', 'COMICS', 'COMMUNICATION',\n",
              "       'DATING', 'EDUCATION', 'ENTERTAINMENT', 'EVENTS', 'FINANCE',\n",
              "       'FOOD_AND_DRINK', 'HEALTH_AND_FITNESS', 'HOUSE_AND_HOME',\n",
              "       'LIBRARIES_AND_DEMO', 'LIFESTYLE', 'GAME', 'FAMILY', 'MEDICAL',\n",
              "       'SOCIAL', 'SHOPPING', 'PHOTOGRAPHY', 'SPORTS', 'TRAVEL_AND_LOCAL',\n",
              "       'TOOLS', 'PERSONALIZATION', 'PRODUCTIVITY', 'PARENTING', 'WEATHER',\n",
              "       'VIDEO_PLAYERS', 'NEWS_AND_MAGAZINES', 'MAPS_AND_NAVIGATION',\n",
              "       '1.9'], dtype=object)"
            ]
          },
          "metadata": {},
          "execution_count": 14
        }
      ]
    },
    {
      "cell_type": "code",
      "source": [
        "# unique value\n",
        "df[df['Category']=='1.9']"
      ],
      "metadata": {
        "colab": {
          "base_uri": "https://localhost:8080/",
          "height": 81
        },
        "id": "3XW7FgwpmPC6",
        "outputId": "2dd6df25-cb9d-4927-9ae3-d9ff07396756"
      },
      "execution_count": 15,
      "outputs": [
        {
          "output_type": "execute_result",
          "data": {
            "text/plain": [
              "                                           App Category  Rating Reviews  \\\n",
              "10472  Life Made WI-Fi Touchscreen Photo Frame      1.9    19.0    3.0M   \n",
              "\n",
              "         Size Installs Type     Price Content_Rating             Genres  \\\n",
              "10472  1,000+     Free    0  Everyone            NaN  February 11, 2018   \n",
              "\n",
              "      Last_Updated Current_Ver Android_Ver  \n",
              "10472       1.0.19  4.0 and up         NaN  "
            ],
            "text/html": [
              "\n",
              "  <div id=\"df-d91c15bd-f886-419c-9041-3d0f5be16601\">\n",
              "    <div class=\"colab-df-container\">\n",
              "      <div>\n",
              "<style scoped>\n",
              "    .dataframe tbody tr th:only-of-type {\n",
              "        vertical-align: middle;\n",
              "    }\n",
              "\n",
              "    .dataframe tbody tr th {\n",
              "        vertical-align: top;\n",
              "    }\n",
              "\n",
              "    .dataframe thead th {\n",
              "        text-align: right;\n",
              "    }\n",
              "</style>\n",
              "<table border=\"1\" class=\"dataframe\">\n",
              "  <thead>\n",
              "    <tr style=\"text-align: right;\">\n",
              "      <th></th>\n",
              "      <th>App</th>\n",
              "      <th>Category</th>\n",
              "      <th>Rating</th>\n",
              "      <th>Reviews</th>\n",
              "      <th>Size</th>\n",
              "      <th>Installs</th>\n",
              "      <th>Type</th>\n",
              "      <th>Price</th>\n",
              "      <th>Content_Rating</th>\n",
              "      <th>Genres</th>\n",
              "      <th>Last_Updated</th>\n",
              "      <th>Current_Ver</th>\n",
              "      <th>Android_Ver</th>\n",
              "    </tr>\n",
              "  </thead>\n",
              "  <tbody>\n",
              "    <tr>\n",
              "      <th>10472</th>\n",
              "      <td>Life Made WI-Fi Touchscreen Photo Frame</td>\n",
              "      <td>1.9</td>\n",
              "      <td>19.0</td>\n",
              "      <td>3.0M</td>\n",
              "      <td>1,000+</td>\n",
              "      <td>Free</td>\n",
              "      <td>0</td>\n",
              "      <td>Everyone</td>\n",
              "      <td>NaN</td>\n",
              "      <td>February 11, 2018</td>\n",
              "      <td>1.0.19</td>\n",
              "      <td>4.0 and up</td>\n",
              "      <td>NaN</td>\n",
              "    </tr>\n",
              "  </tbody>\n",
              "</table>\n",
              "</div>\n",
              "      <button class=\"colab-df-convert\" onclick=\"convertToInteractive('df-d91c15bd-f886-419c-9041-3d0f5be16601')\"\n",
              "              title=\"Convert this dataframe to an interactive table.\"\n",
              "              style=\"display:none;\">\n",
              "        \n",
              "  <svg xmlns=\"http://www.w3.org/2000/svg\" height=\"24px\"viewBox=\"0 0 24 24\"\n",
              "       width=\"24px\">\n",
              "    <path d=\"M0 0h24v24H0V0z\" fill=\"none\"/>\n",
              "    <path d=\"M18.56 5.44l.94 2.06.94-2.06 2.06-.94-2.06-.94-.94-2.06-.94 2.06-2.06.94zm-11 1L8.5 8.5l.94-2.06 2.06-.94-2.06-.94L8.5 2.5l-.94 2.06-2.06.94zm10 10l.94 2.06.94-2.06 2.06-.94-2.06-.94-.94-2.06-.94 2.06-2.06.94z\"/><path d=\"M17.41 7.96l-1.37-1.37c-.4-.4-.92-.59-1.43-.59-.52 0-1.04.2-1.43.59L10.3 9.45l-7.72 7.72c-.78.78-.78 2.05 0 2.83L4 21.41c.39.39.9.59 1.41.59.51 0 1.02-.2 1.41-.59l7.78-7.78 2.81-2.81c.8-.78.8-2.07 0-2.86zM5.41 20L4 18.59l7.72-7.72 1.47 1.35L5.41 20z\"/>\n",
              "  </svg>\n",
              "      </button>\n",
              "      \n",
              "  <style>\n",
              "    .colab-df-container {\n",
              "      display:flex;\n",
              "      flex-wrap:wrap;\n",
              "      gap: 12px;\n",
              "    }\n",
              "\n",
              "    .colab-df-convert {\n",
              "      background-color: #E8F0FE;\n",
              "      border: none;\n",
              "      border-radius: 50%;\n",
              "      cursor: pointer;\n",
              "      display: none;\n",
              "      fill: #1967D2;\n",
              "      height: 32px;\n",
              "      padding: 0 0 0 0;\n",
              "      width: 32px;\n",
              "    }\n",
              "\n",
              "    .colab-df-convert:hover {\n",
              "      background-color: #E2EBFA;\n",
              "      box-shadow: 0px 1px 2px rgba(60, 64, 67, 0.3), 0px 1px 3px 1px rgba(60, 64, 67, 0.15);\n",
              "      fill: #174EA6;\n",
              "    }\n",
              "\n",
              "    [theme=dark] .colab-df-convert {\n",
              "      background-color: #3B4455;\n",
              "      fill: #D2E3FC;\n",
              "    }\n",
              "\n",
              "    [theme=dark] .colab-df-convert:hover {\n",
              "      background-color: #434B5C;\n",
              "      box-shadow: 0px 1px 3px 1px rgba(0, 0, 0, 0.15);\n",
              "      filter: drop-shadow(0px 1px 2px rgba(0, 0, 0, 0.3));\n",
              "      fill: #FFFFFF;\n",
              "    }\n",
              "  </style>\n",
              "\n",
              "      <script>\n",
              "        const buttonEl =\n",
              "          document.querySelector('#df-d91c15bd-f886-419c-9041-3d0f5be16601 button.colab-df-convert');\n",
              "        buttonEl.style.display =\n",
              "          google.colab.kernel.accessAllowed ? 'block' : 'none';\n",
              "\n",
              "        async function convertToInteractive(key) {\n",
              "          const element = document.querySelector('#df-d91c15bd-f886-419c-9041-3d0f5be16601');\n",
              "          const dataTable =\n",
              "            await google.colab.kernel.invokeFunction('convertToInteractive',\n",
              "                                                     [key], {});\n",
              "          if (!dataTable) return;\n",
              "\n",
              "          const docLinkHtml = 'Like what you see? Visit the ' +\n",
              "            '<a target=\"_blank\" href=https://colab.research.google.com/notebooks/data_table.ipynb>data table notebook</a>'\n",
              "            + ' to learn more about interactive tables.';\n",
              "          element.innerHTML = '';\n",
              "          dataTable['output_type'] = 'display_data';\n",
              "          await google.colab.output.renderOutput(dataTable, element);\n",
              "          const docLink = document.createElement('div');\n",
              "          docLink.innerHTML = docLinkHtml;\n",
              "          element.appendChild(docLink);\n",
              "        }\n",
              "      </script>\n",
              "    </div>\n",
              "  </div>\n",
              "  "
            ]
          },
          "metadata": {},
          "execution_count": 15
        }
      ]
    },
    {
      "cell_type": "code",
      "source": [
        "#some values not belongs to category column remove that values.\n",
        "df=df.drop(index=10472)\n",
        "df['Category'].unique()"
      ],
      "metadata": {
        "colab": {
          "base_uri": "https://localhost:8080/"
        },
        "id": "UjW5ccZyn3Uj",
        "outputId": "add39cbb-3db7-4727-e8d0-471bc47b4c38"
      },
      "execution_count": 16,
      "outputs": [
        {
          "output_type": "execute_result",
          "data": {
            "text/plain": [
              "array(['ART_AND_DESIGN', 'AUTO_AND_VEHICLES', 'BEAUTY',\n",
              "       'BOOKS_AND_REFERENCE', 'BUSINESS', 'COMICS', 'COMMUNICATION',\n",
              "       'DATING', 'EDUCATION', 'ENTERTAINMENT', 'EVENTS', 'FINANCE',\n",
              "       'FOOD_AND_DRINK', 'HEALTH_AND_FITNESS', 'HOUSE_AND_HOME',\n",
              "       'LIBRARIES_AND_DEMO', 'LIFESTYLE', 'GAME', 'FAMILY', 'MEDICAL',\n",
              "       'SOCIAL', 'SHOPPING', 'PHOTOGRAPHY', 'SPORTS', 'TRAVEL_AND_LOCAL',\n",
              "       'TOOLS', 'PERSONALIZATION', 'PRODUCTIVITY', 'PARENTING', 'WEATHER',\n",
              "       'VIDEO_PLAYERS', 'NEWS_AND_MAGAZINES', 'MAPS_AND_NAVIGATION'],\n",
              "      dtype=object)"
            ]
          },
          "metadata": {},
          "execution_count": 16
        }
      ]
    },
    {
      "cell_type": "code",
      "source": [
        "df['Rating'].unique()"
      ],
      "metadata": {
        "colab": {
          "base_uri": "https://localhost:8080/"
        },
        "id": "HceoPtLLq9FF",
        "outputId": "f054199d-bd5a-47eb-f9d5-06f79c927b46"
      },
      "execution_count": 17,
      "outputs": [
        {
          "output_type": "execute_result",
          "data": {
            "text/plain": [
              "array([4.1, 3.9, 4.7, 4.5, 4.3, 4.4, 3.8, 4.2, 4.6, 3.2, 4. , nan, 4.8,\n",
              "       4.9, 3.6, 3.7, 3.3, 3.4, 3.5, 3.1, 5. , 2.6, 3. , 1.9, 2.5, 2.8,\n",
              "       2.7, 1. , 2.9, 2.3, 2.2, 1.7, 2. , 1.8, 2.4, 1.6, 2.1, 1.4, 1.5,\n",
              "       1.2])"
            ]
          },
          "metadata": {},
          "execution_count": 17
        }
      ]
    },
    {
      "cell_type": "code",
      "source": [
        "# drop nan value from some column\n",
        "df=df.dropna(subset=['Rating','Type','Price','Size','Current_Ver','Android_Ver'],how='all')\n"
      ],
      "metadata": {
        "id": "L_p1Tmnx0LrC"
      },
      "execution_count": 18,
      "outputs": []
    },
    {
      "cell_type": "code",
      "source": [
        "df['Reviews'].unique()"
      ],
      "metadata": {
        "colab": {
          "base_uri": "https://localhost:8080/"
        },
        "id": "GxbsdNlCwy1T",
        "outputId": "1571abe0-f7f5-4b27-86b9-483a0640da82"
      },
      "execution_count": 19,
      "outputs": [
        {
          "output_type": "execute_result",
          "data": {
            "text/plain": [
              "array(['159', '967', '87510', ..., '603', '1195', '398307'], dtype=object)"
            ]
          },
          "metadata": {},
          "execution_count": 19
        }
      ]
    },
    {
      "cell_type": "code",
      "source": [
        "#change datatype from object to int \n",
        "df['Reviews'] = df['Reviews'].astype(int)"
      ],
      "metadata": {
        "id": "QKsJXU9VNUKR"
      },
      "execution_count": 20,
      "outputs": []
    },
    {
      "cell_type": "code",
      "source": [
        "#Remove 'text' from numeric value in size column\n",
        "def convert_dtype(value):\n",
        "  if value[-1:] == 'k':\n",
        "    return float(value[:-1])*1000\n",
        "  elif value[-1:] == 'M':\n",
        "    return float(value[:-1])*100000\n",
        "  else:\n",
        "    return np.nan\n",
        "df['Size'] = df['Size'].map(lambda x: convert_dtype(x))"
      ],
      "metadata": {
        "id": "rc5P-JTaHwMG"
      },
      "execution_count": 21,
      "outputs": []
    },
    {
      "cell_type": "code",
      "source": [
        "df['Size'].unique()\n",
        "df['Size'].astype(float)"
      ],
      "metadata": {
        "colab": {
          "base_uri": "https://localhost:8080/"
        },
        "id": "QCJTMqBPILZp",
        "outputId": "dfa09656-3b3c-4631-c96a-ad61e4d76e73"
      },
      "execution_count": 22,
      "outputs": [
        {
          "output_type": "execute_result",
          "data": {
            "text/plain": [
              "0        1900000.0\n",
              "1        1400000.0\n",
              "2         870000.0\n",
              "3        2500000.0\n",
              "4         280000.0\n",
              "           ...    \n",
              "10836    5300000.0\n",
              "10837     360000.0\n",
              "10838     950000.0\n",
              "10839          NaN\n",
              "10840    1900000.0\n",
              "Name: Size, Length: 10840, dtype: float64"
            ]
          },
          "metadata": {},
          "execution_count": 22
        }
      ]
    },
    {
      "cell_type": "code",
      "source": [
        "df[\"Installs\"].unique()"
      ],
      "metadata": {
        "colab": {
          "base_uri": "https://localhost:8080/"
        },
        "id": "fUkNWQWz_K3U",
        "outputId": "70b9f729-455d-4478-8f0a-d88d9abbd6ab"
      },
      "execution_count": 23,
      "outputs": [
        {
          "output_type": "execute_result",
          "data": {
            "text/plain": [
              "array(['10,000+', '500,000+', '5,000,000+', '50,000,000+', '100,000+',\n",
              "       '50,000+', '1,000,000+', '10,000,000+', '5,000+', '100,000,000+',\n",
              "       '1,000,000,000+', '1,000+', '500,000,000+', '50+', '100+', '500+',\n",
              "       '10+', '1+', '5+', '0+', '0'], dtype=object)"
            ]
          },
          "metadata": {},
          "execution_count": 23
        }
      ]
    },
    {
      "cell_type": "code",
      "source": [
        "# remove unwanted symbols from install column and convert datatype as float\n",
        "df[\"Installs\"]=df[\"Installs\"].apply(lambda x : x.replace(\"+\",\"\"))\n",
        "df[\"Installs\"]=df[\"Installs\"].apply(lambda x : x.replace(\",\",\"\")).astype(float)"
      ],
      "metadata": {
        "id": "hU612_r9Nz-a"
      },
      "execution_count": 24,
      "outputs": []
    },
    {
      "cell_type": "code",
      "source": [
        "# remove '$' symbols from price column and convert datatype as float\n",
        "df[\"Price\"]=df[\"Price\"].apply(lambda x : x.replace(\"$\",\"\")).astype(float)\n",
        "df[\"Price\"].unique()"
      ],
      "metadata": {
        "colab": {
          "base_uri": "https://localhost:8080/"
        },
        "id": "scO_zTFD8wI_",
        "outputId": "77c1ab51-1582-47c3-ea81-c63e3052bb85"
      },
      "execution_count": 25,
      "outputs": [
        {
          "output_type": "execute_result",
          "data": {
            "text/plain": [
              "array([  0.  ,   4.99,   3.99,   6.99,   1.49,   2.99,   7.99,   5.99,\n",
              "         3.49,   1.99,   9.99,   7.49,   0.99,   9.  ,   5.49,  10.  ,\n",
              "        24.99,  11.99,  79.99,  16.99,  14.99,   1.  ,  29.99,  12.99,\n",
              "         2.49,  10.99,   1.5 ,  19.99,  15.99,  33.99,  74.99,  39.99,\n",
              "         3.95,   4.49,   1.7 ,   8.99,   2.  ,   3.88,  25.99, 399.99,\n",
              "        17.99, 400.  ,   3.02,   1.76,   4.84,   4.77,   1.61,   2.5 ,\n",
              "         1.59,   6.49,   1.29,   5.  ,  13.99, 299.99, 379.99,  37.99,\n",
              "        18.99, 389.99,  19.9 ,   8.49,   1.75,  14.  ,   4.85,  46.99,\n",
              "       109.99, 154.99,   3.08,   2.59,   4.8 ,   1.96,  19.4 ,   3.9 ,\n",
              "         4.59,  15.46,   3.04,   4.29,   2.6 ,   3.28,   4.6 ,  28.99,\n",
              "         2.95,   2.9 ,   1.97, 200.  ,  89.99,   2.56,  30.99,   3.61,\n",
              "       394.99,   1.26,   1.2 ,   1.04])"
            ]
          },
          "metadata": {},
          "execution_count": 25
        }
      ]
    },
    {
      "cell_type": "code",
      "source": [
        "df[\"Price\"].dtype"
      ],
      "metadata": {
        "colab": {
          "base_uri": "https://localhost:8080/"
        },
        "id": "VxxJiMhJ-1U_",
        "outputId": "bf97e21c-0d15-4c2f-c485-c75fff988768"
      },
      "execution_count": 26,
      "outputs": [
        {
          "output_type": "execute_result",
          "data": {
            "text/plain": [
              "dtype('float64')"
            ]
          },
          "metadata": {},
          "execution_count": 26
        }
      ]
    },
    {
      "cell_type": "markdown",
      "source": [
        "## **Null value calculate from second dataset**"
      ],
      "metadata": {
        "id": "MUxbWn-B3iHg"
      }
    },
    {
      "cell_type": "code",
      "source": [
        "updated_df_reviews=df_reviews.dropna(subset=['Translated_Review', 'Sentiment', 'Sentiment_Polarity','Sentiment_Subjectivity'],how='all')\n",
        "updated_df_reviews.shape"
      ],
      "metadata": {
        "colab": {
          "base_uri": "https://localhost:8080/"
        },
        "id": "7zu7LpFTUFqe",
        "outputId": "b7a48392-7d5e-4a71-a23e-4b7601c16810"
      },
      "execution_count": 27,
      "outputs": [
        {
          "output_type": "execute_result",
          "data": {
            "text/plain": [
              "(37432, 5)"
            ]
          },
          "metadata": {},
          "execution_count": 27
        }
      ]
    },
    {
      "cell_type": "markdown",
      "source": [
        "## **Handling Duplicate value**\n",
        "\n",
        "Remove if there is any duplicate value from both column"
      ],
      "metadata": {
        "id": "_zmA5-ft7P5F"
      }
    },
    {
      "cell_type": "code",
      "source": [
        "df['App'].value_counts()"
      ],
      "metadata": {
        "colab": {
          "base_uri": "https://localhost:8080/"
        },
        "id": "Ymk-gYXv7WDM",
        "outputId": "be514f6e-c702-4e2b-b94b-9997be5a9787"
      },
      "execution_count": 28,
      "outputs": [
        {
          "output_type": "execute_result",
          "data": {
            "text/plain": [
              "ROBLOX                                                9\n",
              "CBS Sports App - Scores, News, Stats & Watch Live     8\n",
              "ESPN                                                  7\n",
              "Duolingo: Learn Languages Free                        7\n",
              "Candy Crush Saga                                      7\n",
              "                                                     ..\n",
              "Meet U - Get Friends for Snapchat, Kik & Instagram    1\n",
              "U-Report                                              1\n",
              "U of I Community Credit Union                         1\n",
              "Waiting For U Launcher Theme                          1\n",
              "iHoroscope - 2018 Daily Horoscope & Astrology         1\n",
              "Name: App, Length: 9659, dtype: int64"
            ]
          },
          "metadata": {},
          "execution_count": 28
        }
      ]
    },
    {
      "cell_type": "code",
      "source": [
        "df[df['App']=='ROBLOX']"
      ],
      "metadata": {
        "colab": {
          "base_uri": "https://localhost:8080/",
          "height": 332
        },
        "id": "lqq3r9-33mV4",
        "outputId": "f7b3218c-0993-458d-b979-fbbd9f13a7dc"
      },
      "execution_count": 29,
      "outputs": [
        {
          "output_type": "execute_result",
          "data": {
            "text/plain": [
              "         App Category  Rating  Reviews       Size     Installs  Type  Price  \\\n",
              "1653  ROBLOX     GAME     4.5  4447388  6700000.0  100000000.0  Free    0.0   \n",
              "1701  ROBLOX     GAME     4.5  4447346  6700000.0  100000000.0  Free    0.0   \n",
              "1748  ROBLOX     GAME     4.5  4448791  6700000.0  100000000.0  Free    0.0   \n",
              "1841  ROBLOX     GAME     4.5  4449882  6700000.0  100000000.0  Free    0.0   \n",
              "1870  ROBLOX     GAME     4.5  4449910  6700000.0  100000000.0  Free    0.0   \n",
              "2016  ROBLOX   FAMILY     4.5  4449910  6700000.0  100000000.0  Free    0.0   \n",
              "2088  ROBLOX   FAMILY     4.5  4450855  6700000.0  100000000.0  Free    0.0   \n",
              "2206  ROBLOX   FAMILY     4.5  4450890  6700000.0  100000000.0  Free    0.0   \n",
              "4527  ROBLOX   FAMILY     4.5  4443407  6700000.0  100000000.0  Free    0.0   \n",
              "\n",
              "     Content_Rating                        Genres   Last_Updated  \\\n",
              "1653   Everyone 10+  Adventure;Action & Adventure  July 31, 2018   \n",
              "1701   Everyone 10+  Adventure;Action & Adventure  July 31, 2018   \n",
              "1748   Everyone 10+  Adventure;Action & Adventure  July 31, 2018   \n",
              "1841   Everyone 10+  Adventure;Action & Adventure  July 31, 2018   \n",
              "1870   Everyone 10+  Adventure;Action & Adventure  July 31, 2018   \n",
              "2016   Everyone 10+  Adventure;Action & Adventure  July 31, 2018   \n",
              "2088   Everyone 10+  Adventure;Action & Adventure  July 31, 2018   \n",
              "2206   Everyone 10+  Adventure;Action & Adventure  July 31, 2018   \n",
              "4527   Everyone 10+  Adventure;Action & Adventure  July 31, 2018   \n",
              "\n",
              "       Current_Ver Android_Ver  \n",
              "1653  2.347.225742  4.1 and up  \n",
              "1701  2.347.225742  4.1 and up  \n",
              "1748  2.347.225742  4.1 and up  \n",
              "1841  2.347.225742  4.1 and up  \n",
              "1870  2.347.225742  4.1 and up  \n",
              "2016  2.347.225742  4.1 and up  \n",
              "2088  2.347.225742  4.1 and up  \n",
              "2206  2.347.225742  4.1 and up  \n",
              "4527  2.347.225742  4.1 and up  "
            ],
            "text/html": [
              "\n",
              "  <div id=\"df-ec413e13-d272-40ed-981b-63d25ea7e997\">\n",
              "    <div class=\"colab-df-container\">\n",
              "      <div>\n",
              "<style scoped>\n",
              "    .dataframe tbody tr th:only-of-type {\n",
              "        vertical-align: middle;\n",
              "    }\n",
              "\n",
              "    .dataframe tbody tr th {\n",
              "        vertical-align: top;\n",
              "    }\n",
              "\n",
              "    .dataframe thead th {\n",
              "        text-align: right;\n",
              "    }\n",
              "</style>\n",
              "<table border=\"1\" class=\"dataframe\">\n",
              "  <thead>\n",
              "    <tr style=\"text-align: right;\">\n",
              "      <th></th>\n",
              "      <th>App</th>\n",
              "      <th>Category</th>\n",
              "      <th>Rating</th>\n",
              "      <th>Reviews</th>\n",
              "      <th>Size</th>\n",
              "      <th>Installs</th>\n",
              "      <th>Type</th>\n",
              "      <th>Price</th>\n",
              "      <th>Content_Rating</th>\n",
              "      <th>Genres</th>\n",
              "      <th>Last_Updated</th>\n",
              "      <th>Current_Ver</th>\n",
              "      <th>Android_Ver</th>\n",
              "    </tr>\n",
              "  </thead>\n",
              "  <tbody>\n",
              "    <tr>\n",
              "      <th>1653</th>\n",
              "      <td>ROBLOX</td>\n",
              "      <td>GAME</td>\n",
              "      <td>4.5</td>\n",
              "      <td>4447388</td>\n",
              "      <td>6700000.0</td>\n",
              "      <td>100000000.0</td>\n",
              "      <td>Free</td>\n",
              "      <td>0.0</td>\n",
              "      <td>Everyone 10+</td>\n",
              "      <td>Adventure;Action &amp; Adventure</td>\n",
              "      <td>July 31, 2018</td>\n",
              "      <td>2.347.225742</td>\n",
              "      <td>4.1 and up</td>\n",
              "    </tr>\n",
              "    <tr>\n",
              "      <th>1701</th>\n",
              "      <td>ROBLOX</td>\n",
              "      <td>GAME</td>\n",
              "      <td>4.5</td>\n",
              "      <td>4447346</td>\n",
              "      <td>6700000.0</td>\n",
              "      <td>100000000.0</td>\n",
              "      <td>Free</td>\n",
              "      <td>0.0</td>\n",
              "      <td>Everyone 10+</td>\n",
              "      <td>Adventure;Action &amp; Adventure</td>\n",
              "      <td>July 31, 2018</td>\n",
              "      <td>2.347.225742</td>\n",
              "      <td>4.1 and up</td>\n",
              "    </tr>\n",
              "    <tr>\n",
              "      <th>1748</th>\n",
              "      <td>ROBLOX</td>\n",
              "      <td>GAME</td>\n",
              "      <td>4.5</td>\n",
              "      <td>4448791</td>\n",
              "      <td>6700000.0</td>\n",
              "      <td>100000000.0</td>\n",
              "      <td>Free</td>\n",
              "      <td>0.0</td>\n",
              "      <td>Everyone 10+</td>\n",
              "      <td>Adventure;Action &amp; Adventure</td>\n",
              "      <td>July 31, 2018</td>\n",
              "      <td>2.347.225742</td>\n",
              "      <td>4.1 and up</td>\n",
              "    </tr>\n",
              "    <tr>\n",
              "      <th>1841</th>\n",
              "      <td>ROBLOX</td>\n",
              "      <td>GAME</td>\n",
              "      <td>4.5</td>\n",
              "      <td>4449882</td>\n",
              "      <td>6700000.0</td>\n",
              "      <td>100000000.0</td>\n",
              "      <td>Free</td>\n",
              "      <td>0.0</td>\n",
              "      <td>Everyone 10+</td>\n",
              "      <td>Adventure;Action &amp; Adventure</td>\n",
              "      <td>July 31, 2018</td>\n",
              "      <td>2.347.225742</td>\n",
              "      <td>4.1 and up</td>\n",
              "    </tr>\n",
              "    <tr>\n",
              "      <th>1870</th>\n",
              "      <td>ROBLOX</td>\n",
              "      <td>GAME</td>\n",
              "      <td>4.5</td>\n",
              "      <td>4449910</td>\n",
              "      <td>6700000.0</td>\n",
              "      <td>100000000.0</td>\n",
              "      <td>Free</td>\n",
              "      <td>0.0</td>\n",
              "      <td>Everyone 10+</td>\n",
              "      <td>Adventure;Action &amp; Adventure</td>\n",
              "      <td>July 31, 2018</td>\n",
              "      <td>2.347.225742</td>\n",
              "      <td>4.1 and up</td>\n",
              "    </tr>\n",
              "    <tr>\n",
              "      <th>2016</th>\n",
              "      <td>ROBLOX</td>\n",
              "      <td>FAMILY</td>\n",
              "      <td>4.5</td>\n",
              "      <td>4449910</td>\n",
              "      <td>6700000.0</td>\n",
              "      <td>100000000.0</td>\n",
              "      <td>Free</td>\n",
              "      <td>0.0</td>\n",
              "      <td>Everyone 10+</td>\n",
              "      <td>Adventure;Action &amp; Adventure</td>\n",
              "      <td>July 31, 2018</td>\n",
              "      <td>2.347.225742</td>\n",
              "      <td>4.1 and up</td>\n",
              "    </tr>\n",
              "    <tr>\n",
              "      <th>2088</th>\n",
              "      <td>ROBLOX</td>\n",
              "      <td>FAMILY</td>\n",
              "      <td>4.5</td>\n",
              "      <td>4450855</td>\n",
              "      <td>6700000.0</td>\n",
              "      <td>100000000.0</td>\n",
              "      <td>Free</td>\n",
              "      <td>0.0</td>\n",
              "      <td>Everyone 10+</td>\n",
              "      <td>Adventure;Action &amp; Adventure</td>\n",
              "      <td>July 31, 2018</td>\n",
              "      <td>2.347.225742</td>\n",
              "      <td>4.1 and up</td>\n",
              "    </tr>\n",
              "    <tr>\n",
              "      <th>2206</th>\n",
              "      <td>ROBLOX</td>\n",
              "      <td>FAMILY</td>\n",
              "      <td>4.5</td>\n",
              "      <td>4450890</td>\n",
              "      <td>6700000.0</td>\n",
              "      <td>100000000.0</td>\n",
              "      <td>Free</td>\n",
              "      <td>0.0</td>\n",
              "      <td>Everyone 10+</td>\n",
              "      <td>Adventure;Action &amp; Adventure</td>\n",
              "      <td>July 31, 2018</td>\n",
              "      <td>2.347.225742</td>\n",
              "      <td>4.1 and up</td>\n",
              "    </tr>\n",
              "    <tr>\n",
              "      <th>4527</th>\n",
              "      <td>ROBLOX</td>\n",
              "      <td>FAMILY</td>\n",
              "      <td>4.5</td>\n",
              "      <td>4443407</td>\n",
              "      <td>6700000.0</td>\n",
              "      <td>100000000.0</td>\n",
              "      <td>Free</td>\n",
              "      <td>0.0</td>\n",
              "      <td>Everyone 10+</td>\n",
              "      <td>Adventure;Action &amp; Adventure</td>\n",
              "      <td>July 31, 2018</td>\n",
              "      <td>2.347.225742</td>\n",
              "      <td>4.1 and up</td>\n",
              "    </tr>\n",
              "  </tbody>\n",
              "</table>\n",
              "</div>\n",
              "      <button class=\"colab-df-convert\" onclick=\"convertToInteractive('df-ec413e13-d272-40ed-981b-63d25ea7e997')\"\n",
              "              title=\"Convert this dataframe to an interactive table.\"\n",
              "              style=\"display:none;\">\n",
              "        \n",
              "  <svg xmlns=\"http://www.w3.org/2000/svg\" height=\"24px\"viewBox=\"0 0 24 24\"\n",
              "       width=\"24px\">\n",
              "    <path d=\"M0 0h24v24H0V0z\" fill=\"none\"/>\n",
              "    <path d=\"M18.56 5.44l.94 2.06.94-2.06 2.06-.94-2.06-.94-.94-2.06-.94 2.06-2.06.94zm-11 1L8.5 8.5l.94-2.06 2.06-.94-2.06-.94L8.5 2.5l-.94 2.06-2.06.94zm10 10l.94 2.06.94-2.06 2.06-.94-2.06-.94-.94-2.06-.94 2.06-2.06.94z\"/><path d=\"M17.41 7.96l-1.37-1.37c-.4-.4-.92-.59-1.43-.59-.52 0-1.04.2-1.43.59L10.3 9.45l-7.72 7.72c-.78.78-.78 2.05 0 2.83L4 21.41c.39.39.9.59 1.41.59.51 0 1.02-.2 1.41-.59l7.78-7.78 2.81-2.81c.8-.78.8-2.07 0-2.86zM5.41 20L4 18.59l7.72-7.72 1.47 1.35L5.41 20z\"/>\n",
              "  </svg>\n",
              "      </button>\n",
              "      \n",
              "  <style>\n",
              "    .colab-df-container {\n",
              "      display:flex;\n",
              "      flex-wrap:wrap;\n",
              "      gap: 12px;\n",
              "    }\n",
              "\n",
              "    .colab-df-convert {\n",
              "      background-color: #E8F0FE;\n",
              "      border: none;\n",
              "      border-radius: 50%;\n",
              "      cursor: pointer;\n",
              "      display: none;\n",
              "      fill: #1967D2;\n",
              "      height: 32px;\n",
              "      padding: 0 0 0 0;\n",
              "      width: 32px;\n",
              "    }\n",
              "\n",
              "    .colab-df-convert:hover {\n",
              "      background-color: #E2EBFA;\n",
              "      box-shadow: 0px 1px 2px rgba(60, 64, 67, 0.3), 0px 1px 3px 1px rgba(60, 64, 67, 0.15);\n",
              "      fill: #174EA6;\n",
              "    }\n",
              "\n",
              "    [theme=dark] .colab-df-convert {\n",
              "      background-color: #3B4455;\n",
              "      fill: #D2E3FC;\n",
              "    }\n",
              "\n",
              "    [theme=dark] .colab-df-convert:hover {\n",
              "      background-color: #434B5C;\n",
              "      box-shadow: 0px 1px 3px 1px rgba(0, 0, 0, 0.15);\n",
              "      filter: drop-shadow(0px 1px 2px rgba(0, 0, 0, 0.3));\n",
              "      fill: #FFFFFF;\n",
              "    }\n",
              "  </style>\n",
              "\n",
              "      <script>\n",
              "        const buttonEl =\n",
              "          document.querySelector('#df-ec413e13-d272-40ed-981b-63d25ea7e997 button.colab-df-convert');\n",
              "        buttonEl.style.display =\n",
              "          google.colab.kernel.accessAllowed ? 'block' : 'none';\n",
              "\n",
              "        async function convertToInteractive(key) {\n",
              "          const element = document.querySelector('#df-ec413e13-d272-40ed-981b-63d25ea7e997');\n",
              "          const dataTable =\n",
              "            await google.colab.kernel.invokeFunction('convertToInteractive',\n",
              "                                                     [key], {});\n",
              "          if (!dataTable) return;\n",
              "\n",
              "          const docLinkHtml = 'Like what you see? Visit the ' +\n",
              "            '<a target=\"_blank\" href=https://colab.research.google.com/notebooks/data_table.ipynb>data table notebook</a>'\n",
              "            + ' to learn more about interactive tables.';\n",
              "          element.innerHTML = '';\n",
              "          dataTable['output_type'] = 'display_data';\n",
              "          await google.colab.output.renderOutput(dataTable, element);\n",
              "          const docLink = document.createElement('div');\n",
              "          docLink.innerHTML = docLinkHtml;\n",
              "          element.appendChild(docLink);\n",
              "        }\n",
              "      </script>\n",
              "    </div>\n",
              "  </div>\n",
              "  "
            ]
          },
          "metadata": {},
          "execution_count": 29
        }
      ]
    },
    {
      "cell_type": "code",
      "source": [
        "df.drop_duplicates(subset= 'App', inplace = True)\n",
        "df.shape"
      ],
      "metadata": {
        "colab": {
          "base_uri": "https://localhost:8080/"
        },
        "id": "GEE87uH43mCo",
        "outputId": "c665caee-698b-4805-9f46-cd1600bebb4b"
      },
      "execution_count": 30,
      "outputs": [
        {
          "output_type": "execute_result",
          "data": {
            "text/plain": [
              "(9659, 13)"
            ]
          },
          "metadata": {},
          "execution_count": 30
        }
      ]
    },
    {
      "cell_type": "markdown",
      "source": [
        "All Data cleaning is completed.\n",
        "Now use all this data to find some insights of given data."
      ],
      "metadata": {
        "id": "aAs45us-7L-a"
      }
    },
    {
      "cell_type": "markdown",
      "source": [
        "# **Find Insights from given Dataset.**"
      ],
      "metadata": {
        "id": "F_Zg9x2b99qT"
      }
    },
    {
      "cell_type": "markdown",
      "source": [
        "## **1. Which Category have maximum app count ?**"
      ],
      "metadata": {
        "id": "sMrcYTu7-GiU"
      }
    },
    {
      "cell_type": "code",
      "source": [
        "#calculate app count from all category\n",
        "df_category_counts=df['Category'].value_counts()\n",
        "df_category_counts"
      ],
      "metadata": {
        "colab": {
          "base_uri": "https://localhost:8080/"
        },
        "id": "YSU2LNEVmvsd",
        "outputId": "59e8d64d-41aa-45c3-8571-44a3ee5cbc1f"
      },
      "execution_count": 31,
      "outputs": [
        {
          "output_type": "execute_result",
          "data": {
            "text/plain": [
              "FAMILY                 1832\n",
              "GAME                    959\n",
              "TOOLS                   827\n",
              "BUSINESS                420\n",
              "MEDICAL                 395\n",
              "PERSONALIZATION         376\n",
              "PRODUCTIVITY            374\n",
              "LIFESTYLE               369\n",
              "FINANCE                 345\n",
              "SPORTS                  325\n",
              "COMMUNICATION           315\n",
              "HEALTH_AND_FITNESS      288\n",
              "PHOTOGRAPHY             281\n",
              "NEWS_AND_MAGAZINES      254\n",
              "SOCIAL                  239\n",
              "BOOKS_AND_REFERENCE     222\n",
              "TRAVEL_AND_LOCAL        219\n",
              "SHOPPING                202\n",
              "DATING                  171\n",
              "VIDEO_PLAYERS           163\n",
              "MAPS_AND_NAVIGATION     131\n",
              "EDUCATION               119\n",
              "FOOD_AND_DRINK          112\n",
              "ENTERTAINMENT           102\n",
              "AUTO_AND_VEHICLES        85\n",
              "LIBRARIES_AND_DEMO       84\n",
              "WEATHER                  79\n",
              "HOUSE_AND_HOME           74\n",
              "EVENTS                   64\n",
              "ART_AND_DESIGN           64\n",
              "PARENTING                60\n",
              "COMICS                   56\n",
              "BEAUTY                   53\n",
              "Name: Category, dtype: int64"
            ]
          },
          "metadata": {},
          "execution_count": 31
        }
      ]
    },
    {
      "cell_type": "code",
      "source": [
        "plt.figure(figsize=(20,7))\n",
        "df_category_counts.plot.bar(color='springgreen')\n",
        "plt.xlabel(\"Category\",fontsize =15)\n",
        "plt.ylabel(\"App counts\",fontsize =15)\n",
        "plt.title(\"App present in particular Category\",fontsize =20)"
      ],
      "metadata": {
        "id": "4qb6tW6KnFrI",
        "colab": {
          "base_uri": "https://localhost:8080/",
          "height": 601
        },
        "outputId": "51b96754-5a99-4781-8d87-04bebb289816"
      },
      "execution_count": 32,
      "outputs": [
        {
          "output_type": "execute_result",
          "data": {
            "text/plain": [
              "Text(0.5, 1.0, 'App present in particular Category')"
            ]
          },
          "metadata": {},
          "execution_count": 32
        },
        {
          "output_type": "display_data",
          "data": {
            "text/plain": [
              "<Figure size 1440x504 with 1 Axes>"
            ],
            "image/png": "[encoded data removed]"
          },
          "metadata": {
            "needs_background": "light"
          }
        }
      ]
    },
    {
      "cell_type": "markdown",
      "source": [
        "### **Insights**\n",
        "Maximum number of apps present in 'FAMILY' category then 'GAME' category and then 'TOOLS'"
      ],
      "metadata": {
        "id": "y867XJD9AhtW"
      }
    },
    {
      "cell_type": "markdown",
      "source": [
        "## **2. Find Category which have highest mean price apps and Category which have maximum  Ratings ?**"
      ],
      "metadata": {
        "id": "6R9kwAsdBmwx"
      }
    },
    {
      "cell_type": "code",
      "source": [
        "# merge category vs price and rating column\n",
        "merging_df=df.groupby('Category')\n",
        "Mean_rating=merging_df.Rating.mean()\n",
        "Mean_price=merging_df.Price.mean()"
      ],
      "metadata": {
        "id": "aT0BUvCjhtJs"
      },
      "execution_count": 33,
      "outputs": []
    },
    {
      "cell_type": "code",
      "source": [
        "#Find mean rating\n",
        "print(Mean_rating)\n",
        "#Find mean price\n",
        "print(Mean_price)"
      ],
      "metadata": {
        "id": "NGJetIE9iWX1",
        "colab": {
          "base_uri": "https://localhost:8080/"
        },
        "outputId": "6387e7f9-455c-4881-c2c7-9cb9d8c7a1cd"
      },
      "execution_count": 34,
      "outputs": [
        {
          "output_type": "stream",
          "name": "stdout",
          "text": [
            "Category\n",
            "ART_AND_DESIGN         4.357377\n",
            "AUTO_AND_VEHICLES      4.190411\n",
            "BEAUTY                 4.278571\n",
            "BOOKS_AND_REFERENCE    4.344970\n",
            "BUSINESS               4.098479\n",
            "COMICS                 4.181481\n",
            "COMMUNICATION          4.121484\n",
            "DATING                 3.970149\n",
            "EDUCATION              4.364407\n",
            "ENTERTAINMENT          4.135294\n",
            "EVENTS                 4.435556\n",
            "FAMILY                 4.179664\n",
            "FINANCE                4.115563\n",
            "FOOD_AND_DRINK         4.172340\n",
            "GAME                   4.247368\n",
            "HEALTH_AND_FITNESS     4.243033\n",
            "HOUSE_AND_HOME         4.150000\n",
            "LIBRARIES_AND_DEMO     4.178125\n",
            "LIFESTYLE              4.093355\n",
            "MAPS_AND_NAVIGATION    4.036441\n",
            "MEDICAL                4.166552\n",
            "NEWS_AND_MAGAZINES     4.121569\n",
            "PARENTING              4.300000\n",
            "PERSONALIZATION        4.332215\n",
            "PHOTOGRAPHY            4.157414\n",
            "PRODUCTIVITY           4.183389\n",
            "SHOPPING               4.230000\n",
            "SOCIAL                 4.247291\n",
            "SPORTS                 4.216154\n",
            "TOOLS                  4.039554\n",
            "TRAVEL_AND_LOCAL       4.069519\n",
            "VIDEO_PLAYERS          4.044595\n",
            "WEATHER                4.243056\n",
            "Name: Rating, dtype: float64\n",
            "Category\n",
            "ART_AND_DESIGN         0.093281\n",
            "AUTO_AND_VEHICLES      0.158471\n",
            "BEAUTY                 0.000000\n",
            "BOOKS_AND_REFERENCE    0.539505\n",
            "BUSINESS               0.417357\n",
            "COMICS                 0.000000\n",
            "COMMUNICATION          0.263937\n",
            "DATING                 0.160468\n",
            "EDUCATION              0.150924\n",
            "ENTERTAINMENT          0.078235\n",
            "EVENTS                 1.718594\n",
            "FAMILY                 1.309967\n",
            "FINANCE                8.408203\n",
            "FOOD_AND_DRINK         0.075714\n",
            "GAME                   0.296465\n",
            "HEALTH_AND_FITNESS     0.223438\n",
            "HOUSE_AND_HOME         0.000000\n",
            "LIBRARIES_AND_DEMO     0.011786\n",
            "LIFESTYLE              6.398022\n",
            "MAPS_AND_NAVIGATION    0.205725\n",
            "MEDICAL                2.520759\n",
            "NEWS_AND_MAGAZINES     0.015669\n",
            "PARENTING              0.159667\n",
            "PERSONALIZATION        0.400213\n",
            "PHOTOGRAPHY            0.420925\n",
            "PRODUCTIVITY           0.670936\n",
            "SHOPPING               0.027129\n",
            "SOCIAL                 0.066820\n",
            "SPORTS                 0.307692\n",
            "TOOLS                  0.323156\n",
            "TRAVEL_AND_LOCAL       0.228082\n",
            "VIDEO_PLAYERS          0.064172\n",
            "WEATHER                0.410380\n",
            "Name: Price, dtype: float64\n"
          ]
        }
      ]
    },
    {
      "cell_type": "code",
      "source": [
        "# Draw category and mean price graph\n",
        "fig = plt.figure(figsize=(15,7))\n",
        "plt.plot(Mean_price,color='g')\n",
        "plt.xticks(rotation=90)\n",
        "plt.title('Mean Price of each category',fontsize = 20)\n",
        "plt.xlabel('Categories',fontsize = 15)\n",
        "plt.ylabel('Price',fontsize = 15)\n",
        "plt.show()"
      ],
      "metadata": {
        "id": "-RhH0GsbseJ-",
        "colab": {
          "base_uri": "https://localhost:8080/",
          "height": 584
        },
        "outputId": "b471956c-7a2c-47c5-a81e-05c656e77714"
      },
      "execution_count": 35,
      "outputs": [
        {
          "output_type": "display_data",
          "data": {
            "text/plain": [
              "<Figure size 1080x504 with 1 Axes>"
            ],
            "image/png": "[encoded data removed]"
          },
          "metadata": {
            "needs_background": "light"
          }
        }
      ]
    },
    {
      "cell_type": "code",
      "source": [
        "# Draw category and mean Rating graph\n",
        "fig = plt.figure(figsize=(15,7))\n",
        "plt.plot(Mean_rating, color='r')\n",
        "plt.xticks(rotation=90)\n",
        "plt.title('Mean Rating of each category',fontsize = 20)\n",
        "plt.xlabel('Categories',fontsize = 15)\n",
        "plt.ylabel('Rating',fontsize = 15)\n",
        "plt.show()"
      ],
      "metadata": {
        "id": "7AHxAsZOsUpm",
        "colab": {
          "base_uri": "https://localhost:8080/",
          "height": 584
        },
        "outputId": "14a57622-ca01-4042-81b1-8d930806ea46"
      },
      "execution_count": 36,
      "outputs": [
        {
          "output_type": "display_data",
          "data": {
            "text/plain": [
              "<Figure size 1080x504 with 1 Axes>"
            ],
            "image/png": "[encoded data removed]"
          },
          "metadata": {
            "needs_background": "light"
          }
        }
      ]
    },
    {
      "cell_type": "markdown",
      "source": [
        "### **Insights**\n",
        "\n",
        "*  Highest Mean price is for FINANCE  category and after that LIFESTYLE category.\n",
        "*   Highest Rating is for EVENTS category and Lowest rating for DATING category.\n",
        "\n"
      ],
      "metadata": {
        "id": "WkCW8ZmGSu7N"
      }
    },
    {
      "cell_type": "markdown",
      "source": [
        "## **3. Analyse permission of app for specific age group**"
      ],
      "metadata": {
        "id": "HYNveugWWtmK"
      }
    },
    {
      "cell_type": "code",
      "source": [
        "#analyse some content rating column.\n",
        "df['Content_Rating'].value_counts"
      ],
      "metadata": {
        "id": "JtBSp9kcseIS",
        "colab": {
          "base_uri": "https://localhost:8080/"
        },
        "outputId": "e78cfc54-fcce-43c6-a92b-0b4b6b2b8b87"
      },
      "execution_count": 37,
      "outputs": [
        {
          "output_type": "execute_result",
          "data": {
            "text/plain": [
              "<bound method IndexOpsMixin.value_counts of 0          Everyone\n",
              "1          Everyone\n",
              "2          Everyone\n",
              "3              Teen\n",
              "4          Everyone\n",
              "            ...    \n",
              "10836      Everyone\n",
              "10837      Everyone\n",
              "10838      Everyone\n",
              "10839    Mature 17+\n",
              "10840      Everyone\n",
              "Name: Content_Rating, Length: 9659, dtype: object>"
            ]
          },
          "metadata": {},
          "execution_count": 37
        }
      ]
    },
    {
      "cell_type": "code",
      "source": [
        "fig, rating_ = plt.subplots(figsize=(10, 10), subplot_kw=dict(aspect=\"equal\"))\n",
        "content_rating_count = df[\"Content_Rating\"].value_counts()\n",
        "labels = content_rating_count.index\n",
        "sizes = content_rating_count.values\n",
        "rating_.pie(sizes,labeldistance=3,autopct='%2.1f%%')\n",
        "rating_.legend(labels=labels,loc=\"right\", bbox_to_anchor=(0.9, 0, 0.5, 1))\n",
        "rating_.axis(\"equal\")\n",
        "plt.show()"
      ],
      "metadata": {
        "id": "R6PXYnUfseEG",
        "colab": {
          "base_uri": "https://localhost:8080/",
          "height": 575
        },
        "outputId": "b5fefb7a-03bf-45bd-9675-19d66fe3e426"
      },
      "execution_count": 38,
      "outputs": [
        {
          "output_type": "display_data",
          "data": {
            "text/plain": [
              "<Figure size 720x720 with 1 Axes>"
            ],
            "image/png": "[encoded data removed]"
          },
          "metadata": {}
        }
      ]
    },
    {
      "cell_type": "markdown",
      "source": [
        "### **Insights**\n",
        "\n",
        "*  81.8% app can use every age group person.\n",
        "*  Adults only 18+ and unrated have very less number of apps."
      ],
      "metadata": {
        "id": "Wchg8Z06YbJ2"
      }
    },
    {
      "cell_type": "markdown",
      "source": [
        "## **4. Find Which category have maximum number of install apps?**"
      ],
      "metadata": {
        "id": "pf3ffdWbcDgN"
      }
    },
    {
      "cell_type": "code",
      "source": [
        "#merge category vs installs data\n",
        "df_category = df.groupby('Category')[['Installs']].sum().reset_index()\n",
        "plt.figure(figsize=(10, 5))\n",
        "sns.barplot(x='Category', y='Installs', data=df_category)\n",
        "plt.xticks(rotation=90)\n",
        "plt.xlabel('App Category',fontsize =15)\n",
        "plt.ylabel('Installs (e+10)',fontsize =15)\n",
        "plt.title('Number of Installs Vs App Category',fontsize =20)\n",
        "plt.show()"
      ],
      "metadata": {
        "id": "t_wyyyVIcBuw",
        "colab": {
          "base_uri": "https://localhost:8080/",
          "height": 476
        },
        "outputId": "2f7e614a-dc20-4fb7-ce9c-afa237a81700"
      },
      "execution_count": 39,
      "outputs": [
        {
          "output_type": "display_data",
          "data": {
            "text/plain": [
              "<Figure size 720x360 with 1 Axes>"
            ],
            "image/png": "[encoded data removed]"
          },
          "metadata": {
            "needs_background": "light"
          }
        }
      ]
    },
    {
      "cell_type": "markdown",
      "source": [
        "### **Insights**\n",
        "\n",
        "Gaming have maximum number of installed app."
      ],
      "metadata": {
        "id": "IohJJRk0cWyK"
      }
    },
    {
      "cell_type": "markdown",
      "source": [
        "## **5. Compare Free and paid apps distribution on play store.**"
      ],
      "metadata": {
        "id": "IpFYztF9ZcBN"
      }
    },
    {
      "cell_type": "code",
      "source": [
        "Type_df=df['Type'].value_counts()\n",
        "labels = ['Free', 'Paid']\n",
        "plt.figure(figsize=(10,10))\n",
        "colors = ['#ff9999','#66b3ff']\n",
        "plt.pie(Type_df, labels = labels, autopct='%1.1f%%', colors=colors,explode=(0.01,0.1),textprops={'fontsize': 15})\n",
        "plt.title('Available types of Paid and Free apps',size=20,loc='center')\n",
        "plt.legend()"
      ],
      "metadata": {
        "id": "JY4FqEJcsdw8",
        "colab": {
          "base_uri": "https://localhost:8080/",
          "height": 613
        },
        "outputId": "d997d91f-5b59-41b9-fc12-c2818c1087dc"
      },
      "execution_count": 40,
      "outputs": [
        {
          "output_type": "execute_result",
          "data": {
            "text/plain": [
              "<matplotlib.legend.Legend at 0x7f1663cd3a90>"
            ]
          },
          "metadata": {},
          "execution_count": 40
        },
        {
          "output_type": "display_data",
          "data": {
            "text/plain": [
              "<Figure size 720x720 with 1 Axes>"
            ],
            "image/png": "[encoded data removed]"
          },
          "metadata": {}
        }
      ]
    },
    {
      "cell_type": "markdown",
      "source": [
        "### **Insights**\n",
        "\n",
        "Around 92.2% app are freely available on play store."
      ],
      "metadata": {
        "id": "hYDZn5ZQd1qW"
      }
    },
    {
      "cell_type": "markdown",
      "source": [
        "## **6. Is size affect on type of app?**"
      ],
      "metadata": {
        "id": "NPx5QMRZiSlR"
      }
    },
    {
      "cell_type": "code",
      "source": [
        "def price_type(cost):\n",
        "  if cost== 0.:\n",
        "    return \"Free\"\n",
        "  else :\n",
        "    return \"Paid\""
      ],
      "metadata": {
        "id": "grXetiG4iWdo"
      },
      "execution_count": 41,
      "outputs": []
    },
    {
      "cell_type": "code",
      "source": [
        "final_df=df['Price'].apply(price_type)\n",
        "final_df.value_counts()"
      ],
      "metadata": {
        "id": "FO8Hr49Lidzn",
        "colab": {
          "base_uri": "https://localhost:8080/"
        },
        "outputId": "85960306-b2f9-4e19-bcb7-b74ceac5b6dd"
      },
      "execution_count": 42,
      "outputs": [
        {
          "output_type": "execute_result",
          "data": {
            "text/plain": [
              "Free    8903\n",
              "Paid     756\n",
              "Name: Price, dtype: int64"
            ]
          },
          "metadata": {},
          "execution_count": 42
        }
      ]
    },
    {
      "cell_type": "code",
      "source": [
        "df.groupby(final_df)['Size'].mean()"
      ],
      "metadata": {
        "id": "QPF3e0Xuins-",
        "colab": {
          "base_uri": "https://localhost:8080/"
        },
        "outputId": "b75b7874-6e7a-4fc9-ec40-a2cbdbb470a7"
      },
      "execution_count": 43,
      "outputs": [
        {
          "output_type": "execute_result",
          "data": {
            "text/plain": [
              "Price\n",
              "Free    2.064927e+06\n",
              "Paid    1.937912e+06\n",
              "Name: Size, dtype: float64"
            ]
          },
          "metadata": {},
          "execution_count": 43
        }
      ]
    },
    {
      "cell_type": "code",
      "source": [
        "plt.figure(figsize=(16,8))\n",
        "sns.boxplot(x=final_df,y='Size',data = df,palette = 'flare')"
      ],
      "metadata": {
        "id": "JkyCQcysitLY",
        "colab": {
          "base_uri": "https://localhost:8080/",
          "height": 525
        },
        "outputId": "8b460adf-75ca-4038-82c2-7d0e627d18d9"
      },
      "execution_count": 44,
      "outputs": [
        {
          "output_type": "execute_result",
          "data": {
            "text/plain": [
              "<matplotlib.axes._subplots.AxesSubplot at 0x7f1663df5b50>"
            ]
          },
          "metadata": {},
          "execution_count": 44
        },
        {
          "output_type": "display_data",
          "data": {
            "text/plain": [
              "<Figure size 1152x576 with 1 Axes>"
            ],
            "image/png": "[encoded data removed]"
          },
          "metadata": {
            "needs_background": "light"
          }
        }
      ]
    },
    {
      "cell_type": "markdown",
      "source": [
        "### **Insights**\n",
        "\n",
        "Size of app factor dont affect on free or paid type apps."
      ],
      "metadata": {
        "id": "gi_Pu8JHi0AW"
      }
    },
    {
      "cell_type": "markdown",
      "source": [
        "## **7. Find Average rating on play store**"
      ],
      "metadata": {
        "id": "Pq88B0pvd51b"
      }
    },
    {
      "cell_type": "code",
      "source": [
        "df['Rating'].value_counts().plot.bar(figsize=(15,7), color = 'chartreuse' )\n",
        "plt.xlabel('Average number of rating',fontsize = 15 )\n",
        "plt.ylabel('Number of apps on playstore', fontsize = 15)\n",
        "plt.title('Average rating of apps on Playstore', fontsize = 20)\n",
        "plt.legend()"
      ],
      "metadata": {
        "id": "75FR4EjvdPJg",
        "colab": {
          "base_uri": "https://localhost:8080/",
          "height": 491
        },
        "outputId": "51f0848d-3ae7-4014-a510-09f6d89394ac"
      },
      "execution_count": 45,
      "outputs": [
        {
          "output_type": "execute_result",
          "data": {
            "text/plain": [
              "<matplotlib.legend.Legend at 0x7f1663b60190>"
            ]
          },
          "metadata": {},
          "execution_count": 45
        },
        {
          "output_type": "display_data",
          "data": {
            "text/plain": [
              "<Figure size 1080x504 with 1 Axes>"
            ],
            "image/png": "[encoded data removed]"
          },
          "metadata": {
            "needs_background": "light"
          }
        }
      ]
    },
    {
      "cell_type": "markdown",
      "source": [
        "### **Insights**\n",
        "\n",
        "4.3 to 4.5 have maximum average rating on play store."
      ],
      "metadata": {
        "id": "51q0xhqJdWnV"
      }
    },
    {
      "cell_type": "markdown",
      "source": [
        "## **8. How is user sentiment on play store ?**\n",
        "\n",
        "Focus on user reviews data and find out percentage wise."
      ],
      "metadata": {
        "id": "pDg3-n_SflJ1"
      }
    },
    {
      "cell_type": "code",
      "source": [
        "number_of_sentiment = list(updated_df_reviews['Sentiment'].value_counts())\n",
        "labels = ('Positive', 'Negative','Neutral')\n",
        "colors=('coral','wheat','aquamarine')\n",
        "matplotlib.rcParams['font.size'] = 20\n",
        "matplotlib.rcParams['figure.figsize'] = (10, 15)\n",
        "plt.pie(number_of_sentiment, labels=labels,colors=colors, autopct=\"%.2f%%\")\n",
        "plt.title('Percentage of all different Sentiments', fontsize=20)\n",
        "plt.axis('off')\n",
        "plt.legend(bbox_to_anchor=(0.9, 0, 0.5, 1))\n",
        "plt.show()"
      ],
      "metadata": {
        "id": "hXmhjnxv7RtM",
        "colab": {
          "base_uri": "https://localhost:8080/",
          "height": 610
        },
        "outputId": "f60b295f-f028-4ff5-c172-7a36abaa2c1e"
      },
      "execution_count": 46,
      "outputs": [
        {
          "output_type": "display_data",
          "data": {
            "text/plain": [
              "<Figure size 720x1080 with 1 Axes>"
            ],
            "image/png": "[encoded data removed]"
          },
          "metadata": {}
        }
      ]
    },
    {
      "cell_type": "markdown",
      "source": [
        "### **Insights**\n",
        "\n",
        "Positive Sentiment have larger percentage, it has 3 times more than negative sentiment."
      ],
      "metadata": {
        "id": "0LO3Ef75gy8u"
      }
    },
    {
      "cell_type": "markdown",
      "source": [
        "## **9. check if there is any co-relation in both the dataframes.**"
      ],
      "metadata": {
        "id": "X3qi389Pe5Yi"
      }
    },
    {
      "cell_type": "code",
      "source": [
        "# First data set corelation\n",
        "df.corr()"
      ],
      "metadata": {
        "id": "lAe1wvM12YiI",
        "colab": {
          "base_uri": "https://localhost:8080/",
          "height": 206
        },
        "outputId": "a0b4cddb-b5f1-4196-c3b4-81f63c427296"
      },
      "execution_count": 47,
      "outputs": [
        {
          "output_type": "execute_result",
          "data": {
            "text/plain": [
              "            Rating   Reviews      Size  Installs     Price\n",
              "Rating    1.000000  0.055081  0.061928  0.040143 -0.021199\n",
              "Reviews   0.055081  1.000000  0.179429  0.625165 -0.007598\n",
              "Size      0.061928  0.179429  1.000000  0.134076 -0.021729\n",
              "Installs  0.040143  0.625165  0.134076  1.000000 -0.009405\n",
              "Price    -0.021199 -0.007598 -0.021729 -0.009405  1.000000"
            ],
            "text/html": [
              "\n",
              "  <div id=\"df-f4d967ea-7365-4ba0-ac32-9ddc1e5a388a\">\n",
              "    <div class=\"colab-df-container\">\n",
              "      <div>\n",
              "<style scoped>\n",
              "    .dataframe tbody tr th:only-of-type {\n",
              "        vertical-align: middle;\n",
              "    }\n",
              "\n",
              "    .dataframe tbody tr th {\n",
              "        vertical-align: top;\n",
              "    }\n",
              "\n",
              "    .dataframe thead th {\n",
              "        text-align: right;\n",
              "    }\n",
              "</style>\n",
              "<table border=\"1\" class=\"dataframe\">\n",
              "  <thead>\n",
              "    <tr style=\"text-align: right;\">\n",
              "      <th></th>\n",
              "      <th>Rating</th>\n",
              "      <th>Reviews</th>\n",
              "      <th>Size</th>\n",
              "      <th>Installs</th>\n",
              "      <th>Price</th>\n",
              "    </tr>\n",
              "  </thead>\n",
              "  <tbody>\n",
              "    <tr>\n",
              "      <th>Rating</th>\n",
              "      <td>1.000000</td>\n",
              "      <td>0.055081</td>\n",
              "      <td>0.061928</td>\n",
              "      <td>0.040143</td>\n",
              "      <td>-0.021199</td>\n",
              "    </tr>\n",
              "    <tr>\n",
              "      <th>Reviews</th>\n",
              "      <td>0.055081</td>\n",
              "      <td>1.000000</td>\n",
              "      <td>0.179429</td>\n",
              "      <td>0.625165</td>\n",
              "      <td>-0.007598</td>\n",
              "    </tr>\n",
              "    <tr>\n",
              "      <th>Size</th>\n",
              "      <td>0.061928</td>\n",
              "      <td>0.179429</td>\n",
              "      <td>1.000000</td>\n",
              "      <td>0.134076</td>\n",
              "      <td>-0.021729</td>\n",
              "    </tr>\n",
              "    <tr>\n",
              "      <th>Installs</th>\n",
              "      <td>0.040143</td>\n",
              "      <td>0.625165</td>\n",
              "      <td>0.134076</td>\n",
              "      <td>1.000000</td>\n",
              "      <td>-0.009405</td>\n",
              "    </tr>\n",
              "    <tr>\n",
              "      <th>Price</th>\n",
              "      <td>-0.021199</td>\n",
              "      <td>-0.007598</td>\n",
              "      <td>-0.021729</td>\n",
              "      <td>-0.009405</td>\n",
              "      <td>1.000000</td>\n",
              "    </tr>\n",
              "  </tbody>\n",
              "</table>\n",
              "</div>\n",
              "      <button class=\"colab-df-convert\" onclick=\"convertToInteractive('df-f4d967ea-7365-4ba0-ac32-9ddc1e5a388a')\"\n",
              "              title=\"Convert this dataframe to an interactive table.\"\n",
              "              style=\"display:none;\">\n",
              "        \n",
              "  <svg xmlns=\"http://www.w3.org/2000/svg\" height=\"24px\"viewBox=\"0 0 24 24\"\n",
              "       width=\"24px\">\n",
              "    <path d=\"M0 0h24v24H0V0z\" fill=\"none\"/>\n",
              "    <path d=\"M18.56 5.44l.94 2.06.94-2.06 2.06-.94-2.06-.94-.94-2.06-.94 2.06-2.06.94zm-11 1L8.5 8.5l.94-2.06 2.06-.94-2.06-.94L8.5 2.5l-.94 2.06-2.06.94zm10 10l.94 2.06.94-2.06 2.06-.94-2.06-.94-.94-2.06-.94 2.06-2.06.94z\"/><path d=\"M17.41 7.96l-1.37-1.37c-.4-.4-.92-.59-1.43-.59-.52 0-1.04.2-1.43.59L10.3 9.45l-7.72 7.72c-.78.78-.78 2.05 0 2.83L4 21.41c.39.39.9.59 1.41.59.51 0 1.02-.2 1.41-.59l7.78-7.78 2.81-2.81c.8-.78.8-2.07 0-2.86zM5.41 20L4 18.59l7.72-7.72 1.47 1.35L5.41 20z\"/>\n",
              "  </svg>\n",
              "      </button>\n",
              "      \n",
              "  <style>\n",
              "    .colab-df-container {\n",
              "      display:flex;\n",
              "      flex-wrap:wrap;\n",
              "      gap: 12px;\n",
              "    }\n",
              "\n",
              "    .colab-df-convert {\n",
              "      background-color: #E8F0FE;\n",
              "      border: none;\n",
              "      border-radius: 50%;\n",
              "      cursor: pointer;\n",
              "      display: none;\n",
              "      fill: #1967D2;\n",
              "      height: 32px;\n",
              "      padding: 0 0 0 0;\n",
              "      width: 32px;\n",
              "    }\n",
              "\n",
              "    .colab-df-convert:hover {\n",
              "      background-color: #E2EBFA;\n",
              "      box-shadow: 0px 1px 2px rgba(60, 64, 67, 0.3), 0px 1px 3px 1px rgba(60, 64, 67, 0.15);\n",
              "      fill: #174EA6;\n",
              "    }\n",
              "\n",
              "    [theme=dark] .colab-df-convert {\n",
              "      background-color: #3B4455;\n",
              "      fill: #D2E3FC;\n",
              "    }\n",
              "\n",
              "    [theme=dark] .colab-df-convert:hover {\n",
              "      background-color: #434B5C;\n",
              "      box-shadow: 0px 1px 3px 1px rgba(0, 0, 0, 0.15);\n",
              "      filter: drop-shadow(0px 1px 2px rgba(0, 0, 0, 0.3));\n",
              "      fill: #FFFFFF;\n",
              "    }\n",
              "  </style>\n",
              "\n",
              "      <script>\n",
              "        const buttonEl =\n",
              "          document.querySelector('#df-f4d967ea-7365-4ba0-ac32-9ddc1e5a388a button.colab-df-convert');\n",
              "        buttonEl.style.display =\n",
              "          google.colab.kernel.accessAllowed ? 'block' : 'none';\n",
              "\n",
              "        async function convertToInteractive(key) {\n",
              "          const element = document.querySelector('#df-f4d967ea-7365-4ba0-ac32-9ddc1e5a388a');\n",
              "          const dataTable =\n",
              "            await google.colab.kernel.invokeFunction('convertToInteractive',\n",
              "                                                     [key], {});\n",
              "          if (!dataTable) return;\n",
              "\n",
              "          const docLinkHtml = 'Like what you see? Visit the ' +\n",
              "            '<a target=\"_blank\" href=https://colab.research.google.com/notebooks/data_table.ipynb>data table notebook</a>'\n",
              "            + ' to learn more about interactive tables.';\n",
              "          element.innerHTML = '';\n",
              "          dataTable['output_type'] = 'display_data';\n",
              "          await google.colab.output.renderOutput(dataTable, element);\n",
              "          const docLink = document.createElement('div');\n",
              "          docLink.innerHTML = docLinkHtml;\n",
              "          element.appendChild(docLink);\n",
              "        }\n",
              "      </script>\n",
              "    </div>\n",
              "  </div>\n",
              "  "
            ]
          },
          "metadata": {},
          "execution_count": 47
        }
      ]
    },
    {
      "cell_type": "code",
      "source": [
        "# second data set corelation\n",
        "updated_df_reviews.corr()"
      ],
      "metadata": {
        "id": "5aQFUePr2qSI",
        "colab": {
          "base_uri": "https://localhost:8080/",
          "height": 112
        },
        "outputId": "09a960bb-5e44-4ec3-b874-7f85ac48b4a0"
      },
      "execution_count": 48,
      "outputs": [
        {
          "output_type": "execute_result",
          "data": {
            "text/plain": [
              "                        Sentiment_Polarity  Sentiment_Subjectivity\n",
              "Sentiment_Polarity                1.000000                0.261651\n",
              "Sentiment_Subjectivity            0.261651                1.000000"
            ],
            "text/html": [
              "\n",
              "  <div id=\"df-337159dc-c088-49bf-8423-a9db80f1b6b7\">\n",
              "    <div class=\"colab-df-container\">\n",
              "      <div>\n",
              "<style scoped>\n",
              "    .dataframe tbody tr th:only-of-type {\n",
              "        vertical-align: middle;\n",
              "    }\n",
              "\n",
              "    .dataframe tbody tr th {\n",
              "        vertical-align: top;\n",
              "    }\n",
              "\n",
              "    .dataframe thead th {\n",
              "        text-align: right;\n",
              "    }\n",
              "</style>\n",
              "<table border=\"1\" class=\"dataframe\">\n",
              "  <thead>\n",
              "    <tr style=\"text-align: right;\">\n",
              "      <th></th>\n",
              "      <th>Sentiment_Polarity</th>\n",
              "      <th>Sentiment_Subjectivity</th>\n",
              "    </tr>\n",
              "  </thead>\n",
              "  <tbody>\n",
              "    <tr>\n",
              "      <th>Sentiment_Polarity</th>\n",
              "      <td>1.000000</td>\n",
              "      <td>0.261651</td>\n",
              "    </tr>\n",
              "    <tr>\n",
              "      <th>Sentiment_Subjectivity</th>\n",
              "      <td>0.261651</td>\n",
              "      <td>1.000000</td>\n",
              "    </tr>\n",
              "  </tbody>\n",
              "</table>\n",
              "</div>\n",
              "      <button class=\"colab-df-convert\" onclick=\"convertToInteractive('df-337159dc-c088-49bf-8423-a9db80f1b6b7')\"\n",
              "              title=\"Convert this dataframe to an interactive table.\"\n",
              "              style=\"display:none;\">\n",
              "        \n",
              "  <svg xmlns=\"http://www.w3.org/2000/svg\" height=\"24px\"viewBox=\"0 0 24 24\"\n",
              "       width=\"24px\">\n",
              "    <path d=\"M0 0h24v24H0V0z\" fill=\"none\"/>\n",
              "    <path d=\"M18.56 5.44l.94 2.06.94-2.06 2.06-.94-2.06-.94-.94-2.06-.94 2.06-2.06.94zm-11 1L8.5 8.5l.94-2.06 2.06-.94-2.06-.94L8.5 2.5l-.94 2.06-2.06.94zm10 10l.94 2.06.94-2.06 2.06-.94-2.06-.94-.94-2.06-.94 2.06-2.06.94z\"/><path d=\"M17.41 7.96l-1.37-1.37c-.4-.4-.92-.59-1.43-.59-.52 0-1.04.2-1.43.59L10.3 9.45l-7.72 7.72c-.78.78-.78 2.05 0 2.83L4 21.41c.39.39.9.59 1.41.59.51 0 1.02-.2 1.41-.59l7.78-7.78 2.81-2.81c.8-.78.8-2.07 0-2.86zM5.41 20L4 18.59l7.72-7.72 1.47 1.35L5.41 20z\"/>\n",
              "  </svg>\n",
              "      </button>\n",
              "      \n",
              "  <style>\n",
              "    .colab-df-container {\n",
              "      display:flex;\n",
              "      flex-wrap:wrap;\n",
              "      gap: 12px;\n",
              "    }\n",
              "\n",
              "    .colab-df-convert {\n",
              "      background-color: #E8F0FE;\n",
              "      border: none;\n",
              "      border-radius: 50%;\n",
              "      cursor: pointer;\n",
              "      display: none;\n",
              "      fill: #1967D2;\n",
              "      height: 32px;\n",
              "      padding: 0 0 0 0;\n",
              "      width: 32px;\n",
              "    }\n",
              "\n",
              "    .colab-df-convert:hover {\n",
              "      background-color: #E2EBFA;\n",
              "      box-shadow: 0px 1px 2px rgba(60, 64, 67, 0.3), 0px 1px 3px 1px rgba(60, 64, 67, 0.15);\n",
              "      fill: #174EA6;\n",
              "    }\n",
              "\n",
              "    [theme=dark] .colab-df-convert {\n",
              "      background-color: #3B4455;\n",
              "      fill: #D2E3FC;\n",
              "    }\n",
              "\n",
              "    [theme=dark] .colab-df-convert:hover {\n",
              "      background-color: #434B5C;\n",
              "      box-shadow: 0px 1px 3px 1px rgba(0, 0, 0, 0.15);\n",
              "      filter: drop-shadow(0px 1px 2px rgba(0, 0, 0, 0.3));\n",
              "      fill: #FFFFFF;\n",
              "    }\n",
              "  </style>\n",
              "\n",
              "      <script>\n",
              "        const buttonEl =\n",
              "          document.querySelector('#df-337159dc-c088-49bf-8423-a9db80f1b6b7 button.colab-df-convert');\n",
              "        buttonEl.style.display =\n",
              "          google.colab.kernel.accessAllowed ? 'block' : 'none';\n",
              "\n",
              "        async function convertToInteractive(key) {\n",
              "          const element = document.querySelector('#df-337159dc-c088-49bf-8423-a9db80f1b6b7');\n",
              "          const dataTable =\n",
              "            await google.colab.kernel.invokeFunction('convertToInteractive',\n",
              "                                                     [key], {});\n",
              "          if (!dataTable) return;\n",
              "\n",
              "          const docLinkHtml = 'Like what you see? Visit the ' +\n",
              "            '<a target=\"_blank\" href=https://colab.research.google.com/notebooks/data_table.ipynb>data table notebook</a>'\n",
              "            + ' to learn more about interactive tables.';\n",
              "          element.innerHTML = '';\n",
              "          dataTable['output_type'] = 'display_data';\n",
              "          await google.colab.output.renderOutput(dataTable, element);\n",
              "          const docLink = document.createElement('div');\n",
              "          docLink.innerHTML = docLinkHtml;\n",
              "          element.appendChild(docLink);\n",
              "        }\n",
              "      </script>\n",
              "    </div>\n",
              "  </div>\n",
              "  "
            ]
          },
          "metadata": {},
          "execution_count": 48
        }
      ]
    },
    {
      "cell_type": "code",
      "source": [
        "# combine both data set and find corelation\n",
        "df_copy=df.copy()\n",
        "df_user_copy=updated_df_reviews.copy()\n",
        "merge_df_copy=pd.merge(df_copy,df_user_copy,how='inner', left_on='App', right_on='App')\n",
        "merge_df_copy.corr()"
      ],
      "metadata": {
        "id": "lY2bNNphCoOr",
        "colab": {
          "base_uri": "https://localhost:8080/",
          "height": 269
        },
        "outputId": "aafbba41-72e4-4213-bd18-c954b33f8b3f"
      },
      "execution_count": 49,
      "outputs": [
        {
          "output_type": "execute_result",
          "data": {
            "text/plain": [
              "                          Rating   Reviews      Size  Installs     Price  \\\n",
              "Rating                  1.000000  0.075736  0.166165  0.020147 -0.010055   \n",
              "Reviews                 0.075736  1.000000  0.430394  0.564259 -0.020589   \n",
              "Size                    0.166165  0.430394  1.000000  0.213775 -0.019975   \n",
              "Installs                0.020147  0.564259  0.213775  1.000000 -0.025211   \n",
              "Price                  -0.010055 -0.020589 -0.019975 -0.025211  1.000000   \n",
              "Sentiment_Polarity      0.092889 -0.080007 -0.159722 -0.057825  0.024154   \n",
              "Sentiment_Subjectivity  0.068716 -0.009265  0.009672 -0.006248  0.003204   \n",
              "\n",
              "                        Sentiment_Polarity  Sentiment_Subjectivity  \n",
              "Rating                            0.092889                0.068716  \n",
              "Reviews                          -0.080007               -0.009265  \n",
              "Size                             -0.159722                0.009672  \n",
              "Installs                         -0.057825               -0.006248  \n",
              "Price                             0.024154                0.003204  \n",
              "Sentiment_Polarity                1.000000                0.259734  \n",
              "Sentiment_Subjectivity            0.259734                1.000000  "
            ],
            "text/html": [
              "\n",
              "  <div id=\"df-d4d1cbac-3a01-4627-b441-a035683ce815\">\n",
              "    <div class=\"colab-df-container\">\n",
              "      <div>\n",
              "<style scoped>\n",
              "    .dataframe tbody tr th:only-of-type {\n",
              "        vertical-align: middle;\n",
              "    }\n",
              "\n",
              "    .dataframe tbody tr th {\n",
              "        vertical-align: top;\n",
              "    }\n",
              "\n",
              "    .dataframe thead th {\n",
              "        text-align: right;\n",
              "    }\n",
              "</style>\n",
              "<table border=\"1\" class=\"dataframe\">\n",
              "  <thead>\n",
              "    <tr style=\"text-align: right;\">\n",
              "      <th></th>\n",
              "      <th>Rating</th>\n",
              "      <th>Reviews</th>\n",
              "      <th>Size</th>\n",
              "      <th>Installs</th>\n",
              "      <th>Price</th>\n",
              "      <th>Sentiment_Polarity</th>\n",
              "      <th>Sentiment_Subjectivity</th>\n",
              "    </tr>\n",
              "  </thead>\n",
              "  <tbody>\n",
              "    <tr>\n",
              "      <th>Rating</th>\n",
              "      <td>1.000000</td>\n",
              "      <td>0.075736</td>\n",
              "      <td>0.166165</td>\n",
              "      <td>0.020147</td>\n",
              "      <td>-0.010055</td>\n",
              "      <td>0.092889</td>\n",
              "      <td>0.068716</td>\n",
              "    </tr>\n",
              "    <tr>\n",
              "      <th>Reviews</th>\n",
              "      <td>0.075736</td>\n",
              "      <td>1.000000</td>\n",
              "      <td>0.430394</td>\n",
              "      <td>0.564259</td>\n",
              "      <td>-0.020589</td>\n",
              "      <td>-0.080007</td>\n",
              "      <td>-0.009265</td>\n",
              "    </tr>\n",
              "    <tr>\n",
              "      <th>Size</th>\n",
              "      <td>0.166165</td>\n",
              "      <td>0.430394</td>\n",
              "      <td>1.000000</td>\n",
              "      <td>0.213775</td>\n",
              "      <td>-0.019975</td>\n",
              "      <td>-0.159722</td>\n",
              "      <td>0.009672</td>\n",
              "    </tr>\n",
              "    <tr>\n",
              "      <th>Installs</th>\n",
              "      <td>0.020147</td>\n",
              "      <td>0.564259</td>\n",
              "      <td>0.213775</td>\n",
              "      <td>1.000000</td>\n",
              "      <td>-0.025211</td>\n",
              "      <td>-0.057825</td>\n",
              "      <td>-0.006248</td>\n",
              "    </tr>\n",
              "    <tr>\n",
              "      <th>Price</th>\n",
              "      <td>-0.010055</td>\n",
              "      <td>-0.020589</td>\n",
              "      <td>-0.019975</td>\n",
              "      <td>-0.025211</td>\n",
              "      <td>1.000000</td>\n",
              "      <td>0.024154</td>\n",
              "      <td>0.003204</td>\n",
              "    </tr>\n",
              "    <tr>\n",
              "      <th>Sentiment_Polarity</th>\n",
              "      <td>0.092889</td>\n",
              "      <td>-0.080007</td>\n",
              "      <td>-0.159722</td>\n",
              "      <td>-0.057825</td>\n",
              "      <td>0.024154</td>\n",
              "      <td>1.000000</td>\n",
              "      <td>0.259734</td>\n",
              "    </tr>\n",
              "    <tr>\n",
              "      <th>Sentiment_Subjectivity</th>\n",
              "      <td>0.068716</td>\n",
              "      <td>-0.009265</td>\n",
              "      <td>0.009672</td>\n",
              "      <td>-0.006248</td>\n",
              "      <td>0.003204</td>\n",
              "      <td>0.259734</td>\n",
              "      <td>1.000000</td>\n",
              "    </tr>\n",
              "  </tbody>\n",
              "</table>\n",
              "</div>\n",
              "      <button class=\"colab-df-convert\" onclick=\"convertToInteractive('df-d4d1cbac-3a01-4627-b441-a035683ce815')\"\n",
              "              title=\"Convert this dataframe to an interactive table.\"\n",
              "              style=\"display:none;\">\n",
              "        \n",
              "  <svg xmlns=\"http://www.w3.org/2000/svg\" height=\"24px\"viewBox=\"0 0 24 24\"\n",
              "       width=\"24px\">\n",
              "    <path d=\"M0 0h24v24H0V0z\" fill=\"none\"/>\n",
              "    <path d=\"M18.56 5.44l.94 2.06.94-2.06 2.06-.94-2.06-.94-.94-2.06-.94 2.06-2.06.94zm-11 1L8.5 8.5l.94-2.06 2.06-.94-2.06-.94L8.5 2.5l-.94 2.06-2.06.94zm10 10l.94 2.06.94-2.06 2.06-.94-2.06-.94-.94-2.06-.94 2.06-2.06.94z\"/><path d=\"M17.41 7.96l-1.37-1.37c-.4-.4-.92-.59-1.43-.59-.52 0-1.04.2-1.43.59L10.3 9.45l-7.72 7.72c-.78.78-.78 2.05 0 2.83L4 21.41c.39.39.9.59 1.41.59.51 0 1.02-.2 1.41-.59l7.78-7.78 2.81-2.81c.8-.78.8-2.07 0-2.86zM5.41 20L4 18.59l7.72-7.72 1.47 1.35L5.41 20z\"/>\n",
              "  </svg>\n",
              "      </button>\n",
              "      \n",
              "  <style>\n",
              "    .colab-df-container {\n",
              "      display:flex;\n",
              "      flex-wrap:wrap;\n",
              "      gap: 12px;\n",
              "    }\n",
              "\n",
              "    .colab-df-convert {\n",
              "      background-color: #E8F0FE;\n",
              "      border: none;\n",
              "      border-radius: 50%;\n",
              "      cursor: pointer;\n",
              "      display: none;\n",
              "      fill: #1967D2;\n",
              "      height: 32px;\n",
              "      padding: 0 0 0 0;\n",
              "      width: 32px;\n",
              "    }\n",
              "\n",
              "    .colab-df-convert:hover {\n",
              "      background-color: #E2EBFA;\n",
              "      box-shadow: 0px 1px 2px rgba(60, 64, 67, 0.3), 0px 1px 3px 1px rgba(60, 64, 67, 0.15);\n",
              "      fill: #174EA6;\n",
              "    }\n",
              "\n",
              "    [theme=dark] .colab-df-convert {\n",
              "      background-color: #3B4455;\n",
              "      fill: #D2E3FC;\n",
              "    }\n",
              "\n",
              "    [theme=dark] .colab-df-convert:hover {\n",
              "      background-color: #434B5C;\n",
              "      box-shadow: 0px 1px 3px 1px rgba(0, 0, 0, 0.15);\n",
              "      filter: drop-shadow(0px 1px 2px rgba(0, 0, 0, 0.3));\n",
              "      fill: #FFFFFF;\n",
              "    }\n",
              "  </style>\n",
              "\n",
              "      <script>\n",
              "        const buttonEl =\n",
              "          document.querySelector('#df-d4d1cbac-3a01-4627-b441-a035683ce815 button.colab-df-convert');\n",
              "        buttonEl.style.display =\n",
              "          google.colab.kernel.accessAllowed ? 'block' : 'none';\n",
              "\n",
              "        async function convertToInteractive(key) {\n",
              "          const element = document.querySelector('#df-d4d1cbac-3a01-4627-b441-a035683ce815');\n",
              "          const dataTable =\n",
              "            await google.colab.kernel.invokeFunction('convertToInteractive',\n",
              "                                                     [key], {});\n",
              "          if (!dataTable) return;\n",
              "\n",
              "          const docLinkHtml = 'Like what you see? Visit the ' +\n",
              "            '<a target=\"_blank\" href=https://colab.research.google.com/notebooks/data_table.ipynb>data table notebook</a>'\n",
              "            + ' to learn more about interactive tables.';\n",
              "          element.innerHTML = '';\n",
              "          dataTable['output_type'] = 'display_data';\n",
              "          await google.colab.output.renderOutput(dataTable, element);\n",
              "          const docLink = document.createElement('div');\n",
              "          docLink.innerHTML = docLinkHtml;\n",
              "          element.appendChild(docLink);\n",
              "        }\n",
              "      </script>\n",
              "    </div>\n",
              "  </div>\n",
              "  "
            ]
          },
          "metadata": {},
          "execution_count": 49
        }
      ]
    },
    {
      "cell_type": "code",
      "source": [
        "# draw it on graph\n",
        "plt.figure(figsize=(10,5))\n",
        "sns.heatmap(merge_df_copy.corr(), vmin=-1, cmap='coolwarm', annot=True)"
      ],
      "metadata": {
        "id": "rJp_JiEhDzQn",
        "colab": {
          "base_uri": "https://localhost:8080/",
          "height": 566
        },
        "outputId": "5a74187c-cc06-43be-91c0-4125f21d073e"
      },
      "execution_count": 50,
      "outputs": [
        {
          "output_type": "execute_result",
          "data": {
            "text/plain": [
              "<matplotlib.axes._subplots.AxesSubplot at 0x7f1663e5a150>"
            ]
          },
          "metadata": {},
          "execution_count": 50
        },
        {
          "output_type": "display_data",
          "data": {
            "text/plain": [
              "<Figure size 720x360 with 2 Axes>"
            ],
            "image/png": "[encoded data removed]"
          },
          "metadata": {
            "needs_background": "light"
          }
        }
      ]
    },
    {
      "cell_type": "markdown",
      "source": [
        "### **Insights**\n",
        "\n",
        "After Analysing Above HeatMaps, we can infer that there is no good correlations between the different columns of both the data sets."
      ],
      "metadata": {
        "id": "MuYemKO5kr8X"
      }
    },
    {
      "cell_type": "markdown",
      "source": [
        "# **Summary**\n",
        "\n",
        "When I start work on this project play store data was more valuable than user review file. So I spent maximum time on play store dataset. While working on this dataset I went through all column and take column which have maximum wightage. I discard last four columns hence, to make meaningful conclusions, I restricted to only those columns which have maximum impact. Data cleaning took maximum time compare to  finding actual insights. As it has lots of null value in all columns it is very difficult to come with accurate data. I went columnwise to remove unwanted data. Data type modify is important as without that we can not proceed to do some numeric calculation. when I went through catagorywise data it has more feasible than directly go with appwise data. App type and price does not affect on rating and reviews given by user. The trending of these apps are most probably due to their nature of being able to entertain or assist the user. Besides, it also shows a good trend where we can see that developers from these categories are focusing on the quality instead of the quantity of the apps. Sentiment can be taken from user reviews dataset  for colncusion of users perspective of perticular app."
      ],
      "metadata": {
        "id": "pZf1Y9c1t54J"
      }
    },
    {
      "cell_type": "markdown",
      "source": [
        "# **Conclusion**\n",
        "\n",
        "1. Rating is very important factor for installtion of apps as user mostly like to watch rating before using app, so developer should also work on updating their content as per the ratings.\n",
        "\n",
        "2.  From all above we analyze rating and installation are related, so owners should encourage to write review of their app.\n",
        "\n",
        "3. Gaming have maximum number of installed app so anyone want to become developer can join this category.\n",
        "\n",
        "4. App category like events and beauty have not much reach, so one can also keep this consideration.\n",
        "\n",
        "5. Most of the apps are downloaded by teens, so users of other age category, must also be encouraged to install the apps.\n",
        "\n",
        "6. Size of app factor dont affect on free or paid type apps.\n",
        "7. Positive Sentiment have larger percentage, it has 3 times more than negative sentiment.\n",
        "8.  Some columns do not have good correlation so we can not take any output from that columns.\n",
        "\n",
        "\n",
        "\n",
        "\n",
        "\n",
        "\n",
        "\n"
      ],
      "metadata": {
        "id": "TxPUGy6dlyLb"
      }
    }
  ]
}